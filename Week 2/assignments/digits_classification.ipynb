{
 "cells": [
  {
   "cell_type": "markdown",
   "metadata": {
    "slideshow": {
     "slide_type": "slide"
    }
   },
   "source": [
    "# MNIST digits classification with TensorFlow"
   ]
  },
  {
   "cell_type": "markdown",
   "metadata": {},
   "source": [
    "<img src=\"images/mnist_sample.png\" style=\"width:30%\">"
   ]
  },
  {
   "cell_type": "code",
   "execution_count": 2,
   "metadata": {},
   "outputs": [
    {
     "name": "stdout",
     "output_type": "stream",
     "text": [
      "We're using TF 1.2.1\n"
     ]
    }
   ],
   "source": [
    "import numpy as np\n",
    "from sklearn.metrics import accuracy_score\n",
    "from matplotlib import pyplot as plt\n",
    "%matplotlib inline\n",
    "import tensorflow as tf\n",
    "print(\"We're using TF\", tf.__version__)"
   ]
  },
  {
   "cell_type": "code",
   "execution_count": 4,
   "metadata": {
    "collapsed": true
   },
   "outputs": [],
   "source": [
    "import sys\n",
    "sys.path.append(\"../..\")\n",
    "import grading\n",
    "\n",
    "import matplotlib_utils\n",
    "from importlib import reload\n",
    "reload(matplotlib_utils)\n",
    "\n",
    "import grading_utils\n",
    "reload(grading_utils)\n",
    "\n",
    "import keras_utils\n",
    "from keras_utils import reset_tf_session"
   ]
  },
  {
   "cell_type": "markdown",
   "metadata": {},
   "source": [
    "# Fill in your Coursera token and email\n",
    "To successfully submit your answers to our grader, please fill in your Coursera submission token and email"
   ]
  },
  {
   "cell_type": "code",
   "execution_count": 5,
   "metadata": {
    "collapsed": true
   },
   "outputs": [],
   "source": [
    "grader = grading.Grader(assignment_key=\"XtD7ho3TEeiHQBLWejjYAA\", \n",
    "                        all_parts=[\"9XaAS\", \"vmogZ\", \"RMv95\", \"i8bgs\", \"rE763\"])"
   ]
  },
  {
   "cell_type": "code",
   "execution_count": 6,
   "metadata": {
    "collapsed": true
   },
   "outputs": [],
   "source": [
    "# token expires every 30 min\n",
    "COURSERA_TOKEN = \"S2qt9CuAauw0gLwN\"\n",
    "COURSERA_EMAIL = \"jeremi.dodinh@gmail.com\""
   ]
  },
  {
   "cell_type": "markdown",
   "metadata": {},
   "source": [
    "# Look at the data\n",
    "\n",
    "In this task we have 50000 28x28 images of digits from 0 to 9.\n",
    "We will train a classifier on this data."
   ]
  },
  {
   "cell_type": "code",
   "execution_count": 7,
   "metadata": {
    "collapsed": true
   },
   "outputs": [],
   "source": [
    "import preprocessed_mnist\n",
    "X_train, y_train, X_val, y_val, X_test, y_test = preprocessed_mnist.load_dataset_from_file()"
   ]
  },
  {
   "cell_type": "code",
   "execution_count": 8,
   "metadata": {},
   "outputs": [
    {
     "name": "stdout",
     "output_type": "stream",
     "text": [
      "X_train [shape (50000, 28, 28)] sample patch:\n",
      " [[ 0.          0.29803922  0.96470588  0.98823529  0.43921569]\n",
      " [ 0.          0.33333333  0.98823529  0.90196078  0.09803922]\n",
      " [ 0.          0.33333333  0.98823529  0.8745098   0.        ]\n",
      " [ 0.          0.33333333  0.98823529  0.56862745  0.        ]\n",
      " [ 0.          0.3372549   0.99215686  0.88235294  0.        ]]\n",
      "A closeup of a sample patch:\n"
     ]
    },
    {
     "data": {
      "image/png": "[encoded data removed]",
      "text/plain": [
       "<matplotlib.figure.Figure at 0x7f2ec95c1320>"
      ]
     },
     "metadata": {},
     "output_type": "display_data"
    },
    {
     "name": "stdout",
     "output_type": "stream",
     "text": [
      "And the whole sample:\n"
     ]
    },
    {
     "data": {
      "image/png": "[encoded data removed]",
      "text/plain": [
       "<matplotlib.figure.Figure at 0x7f2ec9495668>"
      ]
     },
     "metadata": {},
     "output_type": "display_data"
    },
    {
     "name": "stdout",
     "output_type": "stream",
     "text": [
      "y_train [shape (50000,)] 10 samples:\n",
      " [5 0 4 1 9 2 1 3 1 4]\n"
     ]
    }
   ],
   "source": [
    "# X contains rgb values divided by 255\n",
    "print(\"X_train [shape %s] sample patch:\\n\" % (str(X_train.shape)), X_train[1, 15:20, 5:10])\n",
    "print(\"A closeup of a sample patch:\")\n",
    "plt.imshow(X_train[1, 15:20, 5:10], cmap=\"Greys\")\n",
    "plt.show()\n",
    "print(\"And the whole sample:\")\n",
    "plt.imshow(X_train[1], cmap=\"Greys\")\n",
    "plt.show()\n",
    "print(\"y_train [shape %s] 10 samples:\\n\" % (str(y_train.shape)), y_train[:10])"
   ]
  },
  {
   "cell_type": "markdown",
   "metadata": {},
   "source": [
    "# Linear model\n",
    "\n",
    "Your task is to train a linear classifier $\\vec{x} \\rightarrow y$ with SGD using TensorFlow.\n",
    "\n",
    "You will need to calculate a logit (a linear transformation) $z_k$ for each class: \n",
    "$$z_k = \\vec{x} \\cdot \\vec{w_k} + b_k \\quad k = 0..9$$\n",
    "\n",
    "And transform logits $z_k$ to valid probabilities $p_k$ with softmax: \n",
    "$$p_k = \\frac{e^{z_k}}{\\sum_{i=0}^{9}{e^{z_i}}} \\quad k = 0..9$$\n",
    "\n",
    "We will use a cross-entropy loss to train our multi-class classifier:\n",
    "$$\\text{cross-entropy}(y, p) = -\\sum_{k=0}^{9}{\\log(p_k)[y = k]}$$ \n",
    "\n",
    "where \n",
    "$$\n",
    "[x]=\\begin{cases}\n",
    "       1, \\quad \\text{if $x$ is true} \\\\\n",
    "       0, \\quad \\text{otherwise}\n",
    "    \\end{cases}\n",
    "$$\n",
    "\n",
    "Cross-entropy minimization pushes $p_k$ close to 1 when $y = k$, which is what we want.\n",
    "\n",
    "Here's the plan:\n",
    "* Flatten the images (28x28 -> 784) with `X_train.reshape((X_train.shape[0], -1))` to simplify our linear model implementation\n",
    "* Use a matrix placeholder for flattened `X_train`\n",
    "* Convert `y_train` to one-hot encoded vectors that are needed for cross-entropy\n",
    "* Use a shared variable `W` for all weights (a column $\\vec{w_k}$ per class) and `b` for all biases.\n",
    "* Aim for ~0.93 validation accuracy"
   ]
  },
  {
   "cell_type": "code",
   "execution_count": 9,
   "metadata": {
    "scrolled": true
   },
   "outputs": [
    {
     "name": "stdout",
     "output_type": "stream",
     "text": [
      "(50000, 784)\n",
      "(10000, 784)\n"
     ]
    }
   ],
   "source": [
    "X_train_flat = X_train.reshape((X_train.shape[0], -1))\n",
    "print(X_train_flat.shape)\n",
    "\n",
    "X_val_flat = X_val.reshape((X_val.shape[0], -1))\n",
    "print(X_val_flat.shape)"
   ]
  },
  {
   "cell_type": "code",
   "execution_count": 10,
   "metadata": {},
   "outputs": [
    {
     "name": "stdout",
     "output_type": "stream",
     "text": [
      "(50000, 10)\n",
      "[[ 0.  0.  0.  0.  0.  1.  0.  0.  0.  0.]\n",
      " [ 1.  0.  0.  0.  0.  0.  0.  0.  0.  0.]\n",
      " [ 0.  0.  0.  0.  1.  0.  0.  0.  0.  0.]] [5 0 4]\n"
     ]
    }
   ],
   "source": [
    "import keras\n",
    "\n",
    "y_train_oh = keras.utils.to_categorical(y_train, 10)\n",
    "y_val_oh = keras.utils.to_categorical(y_val, 10)\n",
    "\n",
    "print(y_train_oh.shape)\n",
    "print(y_train_oh[:3], y_train[:3])"
   ]
  },
  {
   "cell_type": "code",
   "execution_count": 25,
   "metadata": {
    "collapsed": true
   },
   "outputs": [],
   "source": [
    "# run this again if you remake your graph\n",
    "s = reset_tf_session()"
   ]
  },
  {
   "cell_type": "code",
   "execution_count": 26,
   "metadata": {
    "collapsed": true
   },
   "outputs": [],
   "source": [
    "# Model parameters: W and b\n",
    "### YOUR CODE HERE ### tf.get_variable(...) with shape[0] = 784\n",
    "W = tf.get_variable(\"W\", shape=(256, 10), dtype=tf.float32)\n",
    "### YOUR CODE HERE ### tf.get_variable(...)\n",
    "b = tf.get_variable(\"b\", shape=(1,10), dtype=tf.float32)"
   ]
  },
  {
   "cell_type": "code",
   "execution_count": 27,
   "metadata": {
    "collapsed": true
   },
   "outputs": [],
   "source": [
    "# Placeholders for the input data\n",
    "### YOUR CODE HERE ### tf.placeholder(...) for flat X with shape[0] = None for any batch size\n",
    "input_X = tf.placeholder(tf.float32, (None, 784))\n",
    "### YOUR CODE HERE ### tf.placeholder(...) for one-hot encoded true labels\n",
    "input_y = tf.placeholder(tf.int32, (None,10))"
   ]
  },
  {
   "cell_type": "code",
   "execution_count": 24,
   "metadata": {},
   "outputs": [
    {
     "ename": "ValueError",
     "evalue": "Dimensions must be equal, but are 784 and 256 for 'matmul' (op: 'MatMul') with input shapes: [?,784], [256,10].",
     "output_type": "error",
     "traceback": [
      "\u001b[0;31m---------------------------------------------------------------------------\u001b[0m",
      "\u001b[0;31mInvalidArgumentError\u001b[0m                      Traceback (most recent call last)",
      "\u001b[0;32m/opt/conda/lib/python3.6/site-packages/tensorflow/python/framework/common_shapes.py\u001b[0m in \u001b[0;36m_call_cpp_shape_fn_impl\u001b[0;34m(op, input_tensors_needed, input_tensors_as_shapes_needed, debug_python_shape_fn, require_shape_fn)\u001b[0m\n\u001b[1;32m    670\u001b[0m           \u001b[0mgraph_def_version\u001b[0m\u001b[0;34m,\u001b[0m \u001b[0mnode_def_str\u001b[0m\u001b[0;34m,\u001b[0m \u001b[0minput_shapes\u001b[0m\u001b[0;34m,\u001b[0m \u001b[0minput_tensors\u001b[0m\u001b[0;34m,\u001b[0m\u001b[0;34m\u001b[0m\u001b[0m\n\u001b[0;32m--> 671\u001b[0;31m           input_tensors_as_shapes, status)\n\u001b[0m\u001b[1;32m    672\u001b[0m   \u001b[0;32mexcept\u001b[0m \u001b[0merrors\u001b[0m\u001b[0;34m.\u001b[0m\u001b[0mInvalidArgumentError\u001b[0m \u001b[0;32mas\u001b[0m \u001b[0merr\u001b[0m\u001b[0;34m:\u001b[0m\u001b[0;34m\u001b[0m\u001b[0m\n",
      "\u001b[0;32m/opt/conda/lib/python3.6/contextlib.py\u001b[0m in \u001b[0;36m__exit__\u001b[0;34m(self, type, value, traceback)\u001b[0m\n\u001b[1;32m     87\u001b[0m             \u001b[0;32mtry\u001b[0m\u001b[0;34m:\u001b[0m\u001b[0;34m\u001b[0m\u001b[0m\n\u001b[0;32m---> 88\u001b[0;31m                 \u001b[0mnext\u001b[0m\u001b[0;34m(\u001b[0m\u001b[0mself\u001b[0m\u001b[0;34m.\u001b[0m\u001b[0mgen\u001b[0m\u001b[0;34m)\u001b[0m\u001b[0;34m\u001b[0m\u001b[0m\n\u001b[0m\u001b[1;32m     89\u001b[0m             \u001b[0;32mexcept\u001b[0m \u001b[0mStopIteration\u001b[0m\u001b[0;34m:\u001b[0m\u001b[0;34m\u001b[0m\u001b[0m\n",
      "\u001b[0;32m/opt/conda/lib/python3.6/site-packages/tensorflow/python/framework/errors_impl.py\u001b[0m in \u001b[0;36mraise_exception_on_not_ok_status\u001b[0;34m()\u001b[0m\n\u001b[1;32m    465\u001b[0m           \u001b[0mcompat\u001b[0m\u001b[0;34m.\u001b[0m\u001b[0mas_text\u001b[0m\u001b[0;34m(\u001b[0m\u001b[0mpywrap_tensorflow\u001b[0m\u001b[0;34m.\u001b[0m\u001b[0mTF_Message\u001b[0m\u001b[0;34m(\u001b[0m\u001b[0mstatus\u001b[0m\u001b[0;34m)\u001b[0m\u001b[0;34m)\u001b[0m\u001b[0;34m,\u001b[0m\u001b[0;34m\u001b[0m\u001b[0m\n\u001b[0;32m--> 466\u001b[0;31m           pywrap_tensorflow.TF_GetCode(status))\n\u001b[0m\u001b[1;32m    467\u001b[0m   \u001b[0;32mfinally\u001b[0m\u001b[0;34m:\u001b[0m\u001b[0;34m\u001b[0m\u001b[0m\n",
      "\u001b[0;31mInvalidArgumentError\u001b[0m: Dimensions must be equal, but are 784 and 256 for 'matmul' (op: 'MatMul') with input shapes: [?,784], [256,10].",
      "\nDuring handling of the above exception, another exception occurred:\n",
      "\u001b[0;31mValueError\u001b[0m                                Traceback (most recent call last)",
      "\u001b[0;32m<ipython-input-24-0cd6f888ef67>\u001b[0m in \u001b[0;36m<module>\u001b[0;34m()\u001b[0m\n\u001b[1;32m      1\u001b[0m \u001b[0;31m# Compute predictions\u001b[0m\u001b[0;34m\u001b[0m\u001b[0;34m\u001b[0m\u001b[0m\n\u001b[1;32m      2\u001b[0m \u001b[0;31m# logits for input_X, resulting shape should be [input_X.shape[0], 10]\u001b[0m\u001b[0;34m\u001b[0m\u001b[0;34m\u001b[0m\u001b[0m\n\u001b[0;32m----> 3\u001b[0;31m \u001b[0mlogits\u001b[0m \u001b[0;34m=\u001b[0m \u001b[0minput_X\u001b[0m \u001b[0;34m@\u001b[0m \u001b[0mW\u001b[0m \u001b[0;34m+\u001b[0m \u001b[0mb\u001b[0m\u001b[0;34m\u001b[0m\u001b[0m\n\u001b[0m\u001b[1;32m      4\u001b[0m \u001b[0;34m\u001b[0m\u001b[0m\n\u001b[1;32m      5\u001b[0m \u001b[0;31m# apply tf.nn.softmax to logits\u001b[0m\u001b[0;34m\u001b[0m\u001b[0;34m\u001b[0m\u001b[0m\n",
      "\u001b[0;32m/opt/conda/lib/python3.6/site-packages/tensorflow/python/ops/math_ops.py\u001b[0m in \u001b[0;36mbinary_op_wrapper\u001b[0;34m(x, y)\u001b[0m\n\u001b[1;32m    836\u001b[0m           \u001b[0;32melse\u001b[0m\u001b[0;34m:\u001b[0m\u001b[0;34m\u001b[0m\u001b[0m\n\u001b[1;32m    837\u001b[0m             \u001b[0;32mraise\u001b[0m\u001b[0;34m\u001b[0m\u001b[0m\n\u001b[0;32m--> 838\u001b[0;31m       \u001b[0;32mreturn\u001b[0m \u001b[0mfunc\u001b[0m\u001b[0;34m(\u001b[0m\u001b[0mx\u001b[0m\u001b[0;34m,\u001b[0m \u001b[0my\u001b[0m\u001b[0;34m,\u001b[0m \u001b[0mname\u001b[0m\u001b[0;34m=\u001b[0m\u001b[0mname\u001b[0m\u001b[0;34m)\u001b[0m\u001b[0;34m\u001b[0m\u001b[0m\n\u001b[0m\u001b[1;32m    839\u001b[0m \u001b[0;34m\u001b[0m\u001b[0m\n\u001b[1;32m    840\u001b[0m   \u001b[0;32mdef\u001b[0m \u001b[0mbinary_op_wrapper_sparse\u001b[0m\u001b[0;34m(\u001b[0m\u001b[0msp_x\u001b[0m\u001b[0;34m,\u001b[0m \u001b[0my\u001b[0m\u001b[0;34m)\u001b[0m\u001b[0;34m:\u001b[0m\u001b[0;34m\u001b[0m\u001b[0m\n",
      "\u001b[0;32m/opt/conda/lib/python3.6/site-packages/tensorflow/python/ops/math_ops.py\u001b[0m in \u001b[0;36mmatmul\u001b[0;34m(a, b, transpose_a, transpose_b, adjoint_a, adjoint_b, a_is_sparse, b_is_sparse, name)\u001b[0m\n\u001b[1;32m   1814\u001b[0m     \u001b[0;32melse\u001b[0m\u001b[0;34m:\u001b[0m\u001b[0;34m\u001b[0m\u001b[0m\n\u001b[1;32m   1815\u001b[0m       return gen_math_ops._mat_mul(\n\u001b[0;32m-> 1816\u001b[0;31m           a, b, transpose_a=transpose_a, transpose_b=transpose_b, name=name)\n\u001b[0m\u001b[1;32m   1817\u001b[0m \u001b[0;34m\u001b[0m\u001b[0m\n\u001b[1;32m   1818\u001b[0m \u001b[0;34m\u001b[0m\u001b[0m\n",
      "\u001b[0;32m/opt/conda/lib/python3.6/site-packages/tensorflow/python/ops/gen_math_ops.py\u001b[0m in \u001b[0;36m_mat_mul\u001b[0;34m(a, b, transpose_a, transpose_b, name)\u001b[0m\n\u001b[1;32m   1215\u001b[0m   \"\"\"\n\u001b[1;32m   1216\u001b[0m   result = _op_def_lib.apply_op(\"MatMul\", a=a, b=b, transpose_a=transpose_a,\n\u001b[0;32m-> 1217\u001b[0;31m                                 transpose_b=transpose_b, name=name)\n\u001b[0m\u001b[1;32m   1218\u001b[0m   \u001b[0;32mreturn\u001b[0m \u001b[0mresult\u001b[0m\u001b[0;34m\u001b[0m\u001b[0m\n\u001b[1;32m   1219\u001b[0m \u001b[0;34m\u001b[0m\u001b[0m\n",
      "\u001b[0;32m/opt/conda/lib/python3.6/site-packages/tensorflow/python/framework/op_def_library.py\u001b[0m in \u001b[0;36mapply_op\u001b[0;34m(self, op_type_name, name, **keywords)\u001b[0m\n\u001b[1;32m    765\u001b[0m         op = g.create_op(op_type_name, inputs, output_types, name=scope,\n\u001b[1;32m    766\u001b[0m                          \u001b[0minput_types\u001b[0m\u001b[0;34m=\u001b[0m\u001b[0minput_types\u001b[0m\u001b[0;34m,\u001b[0m \u001b[0mattrs\u001b[0m\u001b[0;34m=\u001b[0m\u001b[0mattr_protos\u001b[0m\u001b[0;34m,\u001b[0m\u001b[0;34m\u001b[0m\u001b[0m\n\u001b[0;32m--> 767\u001b[0;31m                          op_def=op_def)\n\u001b[0m\u001b[1;32m    768\u001b[0m         \u001b[0;32mif\u001b[0m \u001b[0moutput_structure\u001b[0m\u001b[0;34m:\u001b[0m\u001b[0;34m\u001b[0m\u001b[0m\n\u001b[1;32m    769\u001b[0m           \u001b[0moutputs\u001b[0m \u001b[0;34m=\u001b[0m \u001b[0mop\u001b[0m\u001b[0;34m.\u001b[0m\u001b[0moutputs\u001b[0m\u001b[0;34m\u001b[0m\u001b[0m\n",
      "\u001b[0;32m/opt/conda/lib/python3.6/site-packages/tensorflow/python/framework/ops.py\u001b[0m in \u001b[0;36mcreate_op\u001b[0;34m(self, op_type, inputs, dtypes, input_types, name, attrs, op_def, compute_shapes, compute_device)\u001b[0m\n\u001b[1;32m   2506\u001b[0m                     original_op=self._default_original_op, op_def=op_def)\n\u001b[1;32m   2507\u001b[0m     \u001b[0;32mif\u001b[0m \u001b[0mcompute_shapes\u001b[0m\u001b[0;34m:\u001b[0m\u001b[0;34m\u001b[0m\u001b[0m\n\u001b[0;32m-> 2508\u001b[0;31m       \u001b[0mset_shapes_for_outputs\u001b[0m\u001b[0;34m(\u001b[0m\u001b[0mret\u001b[0m\u001b[0;34m)\u001b[0m\u001b[0;34m\u001b[0m\u001b[0m\n\u001b[0m\u001b[1;32m   2509\u001b[0m     \u001b[0mself\u001b[0m\u001b[0;34m.\u001b[0m\u001b[0m_add_op\u001b[0m\u001b[0;34m(\u001b[0m\u001b[0mret\u001b[0m\u001b[0;34m)\u001b[0m\u001b[0;34m\u001b[0m\u001b[0m\n\u001b[1;32m   2510\u001b[0m     \u001b[0mself\u001b[0m\u001b[0;34m.\u001b[0m\u001b[0m_record_op_seen_by_control_dependencies\u001b[0m\u001b[0;34m(\u001b[0m\u001b[0mret\u001b[0m\u001b[0;34m)\u001b[0m\u001b[0;34m\u001b[0m\u001b[0m\n",
      "\u001b[0;32m/opt/conda/lib/python3.6/site-packages/tensorflow/python/framework/ops.py\u001b[0m in \u001b[0;36mset_shapes_for_outputs\u001b[0;34m(op)\u001b[0m\n\u001b[1;32m   1871\u001b[0m       \u001b[0mshape_func\u001b[0m \u001b[0;34m=\u001b[0m \u001b[0m_call_cpp_shape_fn_and_require_op\u001b[0m\u001b[0;34m\u001b[0m\u001b[0m\n\u001b[1;32m   1872\u001b[0m \u001b[0;34m\u001b[0m\u001b[0m\n\u001b[0;32m-> 1873\u001b[0;31m   \u001b[0mshapes\u001b[0m \u001b[0;34m=\u001b[0m \u001b[0mshape_func\u001b[0m\u001b[0;34m(\u001b[0m\u001b[0mop\u001b[0m\u001b[0;34m)\u001b[0m\u001b[0;34m\u001b[0m\u001b[0m\n\u001b[0m\u001b[1;32m   1874\u001b[0m   \u001b[0;32mif\u001b[0m \u001b[0mshapes\u001b[0m \u001b[0;32mis\u001b[0m \u001b[0;32mNone\u001b[0m\u001b[0;34m:\u001b[0m\u001b[0;34m\u001b[0m\u001b[0m\n\u001b[1;32m   1875\u001b[0m     raise RuntimeError(\n",
      "\u001b[0;32m/opt/conda/lib/python3.6/site-packages/tensorflow/python/framework/ops.py\u001b[0m in \u001b[0;36mcall_with_requiring\u001b[0;34m(op)\u001b[0m\n\u001b[1;32m   1821\u001b[0m \u001b[0;34m\u001b[0m\u001b[0m\n\u001b[1;32m   1822\u001b[0m   \u001b[0;32mdef\u001b[0m \u001b[0mcall_with_requiring\u001b[0m\u001b[0;34m(\u001b[0m\u001b[0mop\u001b[0m\u001b[0;34m)\u001b[0m\u001b[0;34m:\u001b[0m\u001b[0;34m\u001b[0m\u001b[0m\n\u001b[0;32m-> 1823\u001b[0;31m     \u001b[0;32mreturn\u001b[0m \u001b[0mcall_cpp_shape_fn\u001b[0m\u001b[0;34m(\u001b[0m\u001b[0mop\u001b[0m\u001b[0;34m,\u001b[0m \u001b[0mrequire_shape_fn\u001b[0m\u001b[0;34m=\u001b[0m\u001b[0;32mTrue\u001b[0m\u001b[0;34m)\u001b[0m\u001b[0;34m\u001b[0m\u001b[0m\n\u001b[0m\u001b[1;32m   1824\u001b[0m \u001b[0;34m\u001b[0m\u001b[0m\n\u001b[1;32m   1825\u001b[0m   \u001b[0m_call_cpp_shape_fn_and_require_op\u001b[0m \u001b[0;34m=\u001b[0m \u001b[0mcall_with_requiring\u001b[0m\u001b[0;34m\u001b[0m\u001b[0m\n",
      "\u001b[0;32m/opt/conda/lib/python3.6/site-packages/tensorflow/python/framework/common_shapes.py\u001b[0m in \u001b[0;36mcall_cpp_shape_fn\u001b[0;34m(op, input_tensors_needed, input_tensors_as_shapes_needed, debug_python_shape_fn, require_shape_fn)\u001b[0m\n\u001b[1;32m    608\u001b[0m     res = _call_cpp_shape_fn_impl(op, input_tensors_needed,\n\u001b[1;32m    609\u001b[0m                                   \u001b[0minput_tensors_as_shapes_needed\u001b[0m\u001b[0;34m,\u001b[0m\u001b[0;34m\u001b[0m\u001b[0m\n\u001b[0;32m--> 610\u001b[0;31m                                   debug_python_shape_fn, require_shape_fn)\n\u001b[0m\u001b[1;32m    611\u001b[0m     \u001b[0;32mif\u001b[0m \u001b[0;32mnot\u001b[0m \u001b[0misinstance\u001b[0m\u001b[0;34m(\u001b[0m\u001b[0mres\u001b[0m\u001b[0;34m,\u001b[0m \u001b[0mdict\u001b[0m\u001b[0;34m)\u001b[0m\u001b[0;34m:\u001b[0m\u001b[0;34m\u001b[0m\u001b[0m\n\u001b[1;32m    612\u001b[0m       \u001b[0;31m# Handles the case where _call_cpp_shape_fn_impl calls unknown_shape(op).\u001b[0m\u001b[0;34m\u001b[0m\u001b[0;34m\u001b[0m\u001b[0m\n",
      "\u001b[0;32m/opt/conda/lib/python3.6/site-packages/tensorflow/python/framework/common_shapes.py\u001b[0m in \u001b[0;36m_call_cpp_shape_fn_impl\u001b[0;34m(op, input_tensors_needed, input_tensors_as_shapes_needed, debug_python_shape_fn, require_shape_fn)\u001b[0m\n\u001b[1;32m    674\u001b[0m       \u001b[0mmissing_shape_fn\u001b[0m \u001b[0;34m=\u001b[0m \u001b[0;32mTrue\u001b[0m\u001b[0;34m\u001b[0m\u001b[0m\n\u001b[1;32m    675\u001b[0m     \u001b[0;32melse\u001b[0m\u001b[0;34m:\u001b[0m\u001b[0;34m\u001b[0m\u001b[0m\n\u001b[0;32m--> 676\u001b[0;31m       \u001b[0;32mraise\u001b[0m \u001b[0mValueError\u001b[0m\u001b[0;34m(\u001b[0m\u001b[0merr\u001b[0m\u001b[0;34m.\u001b[0m\u001b[0mmessage\u001b[0m\u001b[0;34m)\u001b[0m\u001b[0;34m\u001b[0m\u001b[0m\n\u001b[0m\u001b[1;32m    677\u001b[0m \u001b[0;34m\u001b[0m\u001b[0m\n\u001b[1;32m    678\u001b[0m   \u001b[0;32mif\u001b[0m \u001b[0mmissing_shape_fn\u001b[0m\u001b[0;34m:\u001b[0m\u001b[0;34m\u001b[0m\u001b[0m\n",
      "\u001b[0;31mValueError\u001b[0m: Dimensions must be equal, but are 784 and 256 for 'matmul' (op: 'MatMul') with input shapes: [?,784], [256,10]."
     ]
    }
   ],
   "source": [
    "# Compute predictions\n",
    "# logits for input_X, resulting shape should be [input_X.shape[0], 10]\n",
    "logits = input_X @ W + b\n",
    "\n",
    "# apply tf.nn.softmax to logits\n",
    "probas = tf.nn.softmax(logits)\n",
    "\n",
    "# apply tf.argmax to find a class index with highest probability\n",
    "classes = tf.argmax(probas, axis=1)\n",
    "\n",
    "\n",
    "# Loss should be a scalar number: average loss over all the objects with tf.reduce_mean().\n",
    "# Use tf.nn.softmax_cross_entropy_with_logits on top of one-hot encoded input_y and logits.\n",
    "# It is identical to calculating cross-entropy on top of probas, but is more numerically friendly (read the docs).\n",
    "# cross-entropy loss\n",
    "loss = tf.reduce_mean(tf.nn.softmax_cross_entropy_with_logits(labels=input_y, logits=logits))\n",
    "\n",
    "# Use a default tf.train.AdamOptimizer to get an SGD step\n",
    "optimizer = tf.train.AdamOptimizer(0.001)\n",
    "### YOUR CODE HERE ### optimizer step that minimizes the loss\n",
    "step = optimizer.minimize(loss)"
   ]
  },
  {
   "cell_type": "code",
   "execution_count": 29,
   "metadata": {
    "scrolled": false
   },
   "outputs": [
    {
     "data": {
      "text/html": [
       "<img src=\"data:image/jpeg;base64,/9j/4AAQSkZJRgABAQAAAQABAAD/2wBDAAIBAQEBAQIBAQECAgICAgQDAgICAgUEBAMEBgUGBgYFBgYGBwkIBgcJBwYGCAsICQoKCgoKBggLDAsKDAkKCgr/2wBDAQICAgICAgUDAwUKBwYHCgoKCgoKCgoKCgoKCgoKCgoKCgoKCgoKCgoKCgoKCgoKCgoKCgoKCgoKCgoKCgoKCgr/wAARCAEgA2ADASIAAhEBAxEB/8QAHwAAAQUBAQEBAQEAAAAAAAAAAAECAwQFBgcICQoL/8QAtRAAAgEDAwIEAwUFBAQAAAF9AQIDAAQRBRIhMUEGE1FhByJxFDKBkaEII0KxwRVS0fAkM2JyggkKFhcYGRolJicoKSo0NTY3ODk6Q0RFRkdISUpTVFVWV1hZWmNkZWZnaGlqc3R1dnd4eXqDhIWGh4iJipKTlJWWl5iZmqKjpKWmp6ipqrKztLW2t7i5usLDxMXGx8jJytLT1NXW19jZ2uHi4%2BTl5ufo6erx8vP09fb3%2BPn6/8QAHwEAAwEBAQEBAQEBAQAAAAAAAAECAwQFBgcICQoL/8QAtREAAgECBAQDBAcFBAQAAQJ3AAECAxEEBSExBhJBUQdhcRMiMoEIFEKRobHBCSMzUvAVYnLRChYkNOEl8RcYGRomJygpKjU2Nzg5OkNERUZHSElKU1RVVldYWVpjZGVmZ2hpanN0dXZ3eHl6goOEhYaHiImKkpOUlZaXmJmaoqOkpaanqKmqsrO0tba3uLm6wsPExcbHyMnK0tPU1dbX2Nna4uPk5ebn6Onq8vP09fb3%2BPn6/9oADAMBAAIRAxEAPwD9/KKKKACiiigAooooAKKKKACiiigAooooAKKKKACiiigAooooAKKKKACiiigAooooAKKKKACiiigAooooAKKKKACiiigAooooAKKKKACiiigAooooAKKKKACiiigAooooAKKKKACiiigAooooAKKKKACiiigAooooAKKKKACiiigAooooAKKKKACiiigAooooAKKKKACiiigAooooAKKKKACiiigAooooAKKKKACiiigAooooAKKKKACiiigAooooAKKKKACiiigAooooAKKKKACiiigAooooAKKKKACiiigAooooAKKKKACiiigAooooAKKKKACiiigAooooAKKKKACiiigAooooAKKKKACvPfjt%2B1J8FP2b5NGsfil4g1Maj4ilnTQNB8OeF9R1zVNR8lVed4bHTbee5kjiVkMkixlI96biu5c%2BhV4N%2B0P8D/j5/wANJ%2BDv2tv2bLLwfrWueH/B2seFNX8KeOdcutLtLywv7mwuxcQXtraXj288U2noCpt3WVJSCUKK1ABpf/BTL9izWLvxPb2nxXv0h8FWsk/jLUrvwXrEFjoIS0iu9l5dy2iwWsrQzRskMjrJIWKorMrKL2n/APBQ/wDZK1HwBrXxFTx/q9vB4f1ay0vVdE1DwNrNrrkV5ebfscC6PNaLqEr3AYGER27eaAxTcFYjy2b9gH4y%2BMf2a/jn8NfGHinwppHin4o/FS38daHc6U1xeWFpeW0OiywQ3IkihkkiN3pRRwoyYHGDuJVaPi79i/8AaV%2BLmr/Ef45fG34S/CjWvFnjWx8KaPp/gKy%2BI2s2Wm6fY6Hcaldw3qa7b6al5DqDXOqTOksVoPJSKNFZiWcgHsviH9vv9mzwv4a8OeI9XvvG3meK0v5NE8P2vwm8SXGuSRWUscV3NJpMWntf28MLzQq8s0CIpmiy37xM%2Bmaz8RPBHhv4e3XxX8T%2BJbbSvDljo76rf6vqrfZYbSySIzPPMZdvlKsYLNvxtAOcYNfGHin9hH9s/WPgX4X8Nay3hfxV470a58RHRfGV/wDHbxNpGr%2BCLW%2BuUktLO11q1sJLzXIYkjhEy3qw/aTbReYCFGPUfjR/wTotfj1%2Bzb4n%2BHHxD%2BOfjW78d%2BMPhfH4Z17xS3jbWho818tpDE2oJoS3y2FuzzQLK3kRRSEPIBIrSM5AOkg/4KUfsZf8K58V/FbWPite6Jo3giysr7xQ/ifwdq%2Bk3NlZXkxhtb37LeWsVxJaSyK6pcxxtC3luQ%2BEYjj/AI3f8FZP2d/hn8ENU%2BMfgPRfFXiqbQfiD4X8L674Y/4QXXbHU7A6zqVrax3T2cmnNdeV5Fw88DeT5d48aW8MhknjB8r1T/gmJ8ZPHfwq8faR4i8DeG9G8Y%2BI9D0fR7DxDqv7RfjPxut3aWusW%2BoTRyf27AfsEZ8likUSzHe%2BGkxknv8A9qH9gz40/GD4g/F/4g%2BBfEPheOTxfB8LbzwlZ6tfXMSvf%2BE/EdzrUsN40dvJ5ENwGt4VljEzrl2MfyKrgHqFh/wUE/Zb1H4m2XwZh8T%2BJo/Fd5oun6xLoF38N9egudO0%2B9adILu/SSyU6dDut5VeS68pYiFEhQum6j4a/wCCmH7FPi3wZ4s%2BIWkfGC4TR/Bfgi68Zaxe6h4S1W0Fx4et0Z5tWsVntUbVLNVQ4nsxPGxZArEugbB0P9kP4ofEP4mfG74g/G9fD2gxfGj4O%2BHfCF1Y%2BE9duNRl0u4tE11Ltlnns7XzYwNViMT7FZikm6OPA3fN37Y37Kn7UOj/ALDHxS%2BJv7TF34AtIfhD%2BxT8QfBHhePwFqF5cNrzXukWxn1G6W5toBYqE0i3CWcbXAVppCZ22oKAPrPw9/wUl/Yy8TaHrHiPT/i1dQWehppU1/JqnhLVbJmtNSu1s7HUIUuLVGubCWdgovoQ9qoDO0qorMPT9E%2BLvw88R/FLX/gvofiH7T4k8LaXp%2Boa/YR2k22zgvmuBa7pinlF3%2ByzHy1cyKoRmVVkjLfJOofsz%2BIPFegeKfjb/wAFIvF/wz8J%2BBbf9nu5%2BHUlx4f8QTLay6beyQyXmq3k17BbpYOTBbCG2QzCAmT/AEiQsuOw/wCCPngP4u2f7I9r8f8A9pDUDf8AxJ%2BL15H4n8V6g9nJbtJCLSCy01fKl%2BeH/iX2lpI0TYKSzTZAYtkA%2BqqKKKACiiigAooooAKKKKACiiigAooooAKKKKACiiigAooooAKKKKACiiigAooooAKKKKACiiigAooooAKKKKACiiigAooooAK8R0j/AIKMfse6ld69Z6n8Urzw83hzw5c%2BINQk8a%2BEdV0GObSbd0jnv7WTUrWBb63R5IlaW2MqAyxjOXXPtN7FczWcsNndCCZ4mWKYx7/LYjhtp64POO9fmJq//BHL9uX4v6t4X1z43fHHQ31vw14P1Cz1DxRqHxW8TeJx4h1v7ZpV9a6idLvoobLSbaS50xfPsLIBRHJtWWQKgUA%2B2X/b/wD2YbX4aN8WNY8QeKtK0ttcg0axs9c%2BGWv2GqanfzIZIYLLTbixS9v2kQM6/Z4ZAyo7AkIxHReA/wBqz4H/ABH1%2By8J%2BHPEOqQ6vf8AhSfxJDpGteFdS0y7TTYbv7JLLLDeW8UkDrP8hhkVZe%2BzbzXk3xO%2BDn7bvxib4e/G3XPBvwq0P4h/Cjx1NrHh/wAM2vjjUr/Rdcs7jSbvTLmO4vn0qGaxmKXskkbpa3AjMQU%2BYJGxV%2BJPwG/bg1/4y%2BHf2mvA%2BjfCu08WX3ww1XwX4x0LUvFepSWGkLcX8N1a39lcJpwk1AxCN1kt5YrQSlxiWLHIB3Gk/wDBRv8AZA8R694F8LeFfiNqus6n8SfBuleLfBunaJ4H1m9nvND1F9lrqMiQWjNa2%2B7HmSTiNbcMpm8oMCdj4a/tufs3fFf4jXPwn8M%2BL9Ws9ft9LudThsvE/gzVtEW/sbeRI57uyl1G1gjv4I3liDy2zSIvmISQGUnyj9hT9hL4sfsw6/8ADjWfHniDw1dnwd%2Byl4R%2BGN%2B%2BkXM8rNq2lvM1zNF5kEe61bemxmKu235o0wK8a%2BGn/BKv9sbxP8UfC/ib9qb4w2eqRaf4A8V%2BF/GniaD4v%2BJNavPEUur2KW39p2umX0Men6EcqWNpaKUXKgTOI1WgD6l8J/8ABRf9kfxrosfirQfHeuf2Hcarpen6f4lvfh/rdrpWoy6lex2VlJaX09mlteQS3M0UYuIJHhBlQs4VgT6X4W%2BLvw88a/EDxT8LvC/iH7XrnguSzj8T2iWkwWxkuoPtEEZlZBG7tCVkKIzMiyRlgokTd8w%2BOPAnxF8K/wDBPbxp8CP%2BChnif4VeCPAWg/DSLQLb4meHfFt2GadI0trXUntLqzgTTZlmFvJDBHcXTGcoiOTtDdr/AMEr/h98WPDf7ImlfFX9oqwS3%2BJ3xYvpfHXxEhW3aL7Pf36xmG02N8yfZbGOys9pyQLXBoA%2BjaKKKACiiigAooooAKKKKACiiigAooooAKKKKACiiigAooooAKKKKACiiigAooooAKKKKACiiigAooooAKKKKACiiigAooooA574r%2BPb74YfDzU/Hmm/DzXvFc%2BmwrInh7wyLU315l1UrF9rnghBAYsTJKihVY54weQj/a3%2BFv8AwyHpf7aV3Z6vb%2BFdY8F2HiSxsHs0fUZIr2CKW2tRDG7K1zI00UQjVypkcKGI%2Bauv%2BK4%2BILfDnWIvhX4d0bVvEEtm0em6f4g1yXTbOV2IU%2Bbcw2108QCliCsMmSAMAHcPnPwV%2Byl%2B05qn/BOXwx%2Bxv8R9N8B6J4k8H%2BBdBsNJ1vQ/Fd7qllPq2iSWcllJIkunWrrbyyWUbyAZdA7IokwHIB7h8A/j/o3x603XhH4G1/wrrnhTXzo3inwr4oW0%2B3aXefZre7RHazuLi3kWS2uraZXimkUrMASGDKvKfHrx/wDtF/8ADRfgX4EfAXxn4K8Ppr/grxLr2r6n4v8ABd3rRJ0670O3hhhjt9SsfLDf2pKzMzPny0AC8k3P2WfhF8UvA2sfET4q/G2DQLPxP8SPGEOr3ei%2BF9Vnv7HSre30ux02C3S6nt7aS4YrZGZnMEWGnKBSEDNwuueDPDHgH/gqt8PdZ03UfEEt34w%2BDPj%2BW8j1XxfqV9axSQat4PKra2tzcSQWSlZHLLbpGG2ruB2jCbS3LhCVR2j2b%2B5XZ2H/AAg//BQv/o6D4M/%2BGH1b/wCaij/hB/8AgoX/ANHQfBn/AMMPq3/zUV7NRTIPGf8AhB/%2BChf/AEdB8Gf/AAw%2Brf8AzUUf8IP/AMFC/wDo6D4M/wDhh9W/%2BaivZqKAPGf%2BEH/4KF/9HQfBn/ww%2Brf/ADUUf8IP/wAFC/8Ao6D4M/8Ahh9W/wDmor2aigDxn/hB/wDgoX/0dB8Gf/DD6t/81FH/AAg//BQv/o6D4M/%2BGH1b/wCaivZqKAPGf%2BEH/wCChf8A0dB8Gf8Aww%2Brf/NRR/wg/wDwUL/6Og%2BDP/hh9W/%2BaivZqKAPGf8AhB/%2BChf/AEdB8Gf/AAw%2Brf8AzUUf8IP/AMFC/wDo6D4M/wDhh9W/%2BaivZqKAPGf%2BEH/4KF/9HQfBn/ww%2Brf/ADUUf8IP/wAFC/8Ao6D4M/8Ahh9W/wDmor2aigDxn/hB/wDgoX/0dB8Gf/DD6t/81FH/AAg//BQv/o6D4M/%2BGH1b/wCairWv/G/9kT4U2mkaT8dPjD8OfDmuahosGoG28XeIbC0u7iOTI8/bcOrsjOkgDdMowzwQM3/hr/8A4Jwf9HRfBH/wttH/APjtc08Zg6cnGdWKa6OUU/uckz2sPw3xJi6Ea1DA15wkrqUaNaUWu6lGjKLWj1Ta03LH/CD/APBQv/o6D4M/%2BGH1b/5qKP8AhB/%2BChf/AEdB8Gf/AAw%2Brf8AzUVX/wCGv/8AgnB/0dF8Ef8AwttH/wDjtenaBovws8V6FZeKfC2k%2BH9S0zUrSO607UdPggmguoJFDxyxyICroykMrKSCCCDg1dLE4eu2qc4yt2kn%2BTZz47Js5yuEZ43C1aSk7J1KdSmm97JzpwTdtbJt21tbU85/4Qf/AIKF/wDR0HwZ/wDDD6t/81FH/CD/APBQv/o6D4M/%2BGH1b/5qK88%2BH3/BRr9i/wAX%2BB7Pxh4h%2BHvifQZ9U8ca14W0TRrn4Pa3Peate6dcX8ci2kUOns90TDp887LErmEAxybJFZR2XxC/ao/Za8C2Xj20vNEi0/WPAXhDWvEN5beLPAmraTZ3dnpi/wClz291Jpzi9t4maISS2SXRUTRsEfeivseaaP8Awg//AAUL/wCjoPgz/wCGH1b/AOaij/hB/wDgoX/0dB8Gf/DD6t/81FVbD9qz9jDUPjPJ%2Bz9DeW//AAlFv4gj0G6j/wCEGvxYQ6q%2BnR6lHYtqDWgtFne0lSZIzKGcHCgsCo2fjX8Vfgr8JP2edd/aH0fwjo3ijTtLsGk0230NbaQardNKIILWKYAoGkuGSHcTtVmJboaAKH/CD/8ABQv/AKOg%2BDP/AIYfVv8A5qKP%2BEH/AOChf/R0HwZ/8MPq3/zUU79nP4iWfxXufGfgv4rfA3w14T8XeAdfi03xDpmk6kuq2DpNY299Bc293JaWryRtFchTvgjZZYZVwyqrv5j8GP2xbv4xaRb6kP2WfBegf8Jf8MD8QfhVPrnjER2ur6CssCvJqco00nSZo47yxmeNEu1VbnHmFkcAA9M/4Qf/AIKF/wDR0HwZ/wDDD6t/81FH/CD/APBQv/o6D4M/%2BGH1b/5qK8c8C/t7WXxY8MeHLX4T/s2/DvW/EvibxjreiaXdw/EBf%2BET1CLS7Nbq4vbLWk0x3vIyHEKhLQHzobpSVW3aQ0p/%2BCmvwg1Xwppvxd8E/APw5ceA7b4eeFfGXjbXNa8QQWV5pmn67eXFrAtnbJazJqEsL2s/mgzQIcKsLzO20AHuH/CD/wDBQv8A6Og%2BDP8A4YfVv/moo/4Qf/goX/0dB8Gf/DD6t/8ANRXLa9%2B1d8PbD9sU/sseG/2e4dbsrPwbrGqav4psFiJj1OwWwmbR4LXyibif7PqNtKz%2BYioZ4UAdmk8ri/2Sf23L79s/w34nk%2BDH7OHwp1HWtD0XRNTtksfiYbvSUOoNceZpd/ew6O0lhqtqlvvnshbzbPPgBkHmZAB67/wg/wDwUL/6Og%2BDP/hh9W/%2Baij/AIQf/goX/wBHQfBn/wAMPq3/AM1FeQj9sP4nT/sRar%2B2tbfsf/CyLTPD/wDwk11rFlf/ABLuo4Z9N0q4nhivLGePQJHuhdi2kkiR4YTskgwWMhCbk37X2hr8efCX7N1z8G/hboniy/0TQ73xlpPi/wCI8GnT2VzqG4yadpMQsJH1q6gSKR3XbaoVe3%2BcGVhGAehf8IP/AMFC/wDo6D4M/wDhh9W/%2Baij/hB/%2BChf/R0HwZ/8MPq3/wA1FefeIv2z/h58MP2ifFnwU%2BMHwv8Ah1DYeFfBus%2BKtSv/AAZ4vXWdT0bSrBIZln1jTjp8B0z7RbzB4QJZw7KygkAObXwj/a68A%2BM/gJ4l/aA8cfDL4bx2WjyW8Gn6H8PvHNt4l1GW/uCqQ6RdIlpBFa6m80tvbi2SSZTLMAJSAGIB2/8Awg//AAUL/wCjoPgz/wCGH1b/AOaij/hB/wDgoX/0dB8Gf/DD6t/81FeNeMv29I/Bf7EvhH9tLXv2dPhbpFprVjdtrXhnxN8TFsbv7fE0gj0vSG/sp11e9n8i4EUJ%2BzF2RFGdxKelfEH4yeIfhl8XPB2h%2BKv2XPC0fgfxx4os/D2ia6niIHXPttxYSXQaTSTYCMQxtDKkjLeNIqxtL5WxTgA2/wDhB/8AgoX/ANHQfBn/AMMPq3/zUUf8IP8A8FC/%2BjoPgz/4YfVv/moriP2c/wBsf4O/tB%2BIvF%2BsWvh/4T6b4I8K2V/dy6l/wn9tca9BbW1wYhe3%2BkrZqunWk0cc08cr3LsYhEXjQuyx8LJ/wUi8JRfA7U/jJrn7LvhrwlHb/GAeCrWb4h%2BJ49H0ywtZdMj1K11TWL02Mh0lZYZYofJaKUpdXEMBfLllAPcf%2BEH/AOChf/R0HwZ/8MPq3/zUVQ8D%2BOP2rPB37Vnhz4I/G74j/D3xNo3ib4e%2BIdchm8K/Dy%2B0W6tLrTb7RLdFZ7jV75JY3TVJSVCIwaJCGxkHT%2BBXxD8MftAfsr6R%2B0Np3wwtPDc%2BueHpdQtLeHZL5RXfsnguFjjM0EmwSwzbU8yKSNyi7toj8cf8pC/hf/2Rnx5/6dvCFAHs1FFFABRRRQAUUUUAFfOPwm8Vft3/AB10fXvHfhf43/CTQNLt/iF4q0PS9Kv/AIP6pf3EVrpevX%2BmQtLcJ4igWWR47NXZlijXc5AUACvo6vBP2Qh5n7Out27E7Jvjp48ilAONyP4%2B1ZWX6FSQfY0Aav8Awg//AAUL/wCjoPgz/wCGH1b/AOaij/hB/wDgoX/0dB8Gf/DD6t/81FP1/wDag/4J%2B%2BFNdvfC3in9oj4Oabqem3clrqOnah4u0qGe1njYpJFJG8oZHVgVZWAIIIIyKqf8Nf8A/BOD/o6L4I/%2BFto//wAdrleOwKdnVh/4HH/5I96HCvFNSCnDL8Q00mmqFdpp6ppqg0000002mmmm00yx/wAIP/wUL/6Og%2BDP/hh9W/8Amoo/4Qf/AIKF/wDR0HwZ/wDDD6t/81FP0D9qD/gn74r12y8LeFv2iPg5qWp6ldx2unadp/i3Spp7qeRgkcUcaSlndmIVVUEkkADJq9%2B1X8S/hV%2Byh%2Bzf41/aS8U/C5dW0/wV4euNVutN0jRBNcXKxLnYixxsRk4y5G1Fy7lVVmGtKvQrpunNSt2af5Nnn47K8zyucYY3D1KTkrpVITptra6U4QbV9LpNX0vfQzv%2BEH/4KF/9HQfBn/ww%2Brf/ADUUf8IP/wAFC/8Ao6D4M/8Ahh9W/wDmoqhpP7Wf7H%2BueN5fhrpfhrX5fENt4cXXtQ0X/hTWurdafYPHdvFLdRtp4a1aX7DcrFHMEkmeMRxq7uis7TP2nP2YPE0nh3/hFdMsEOs%2BOpvCt7YeJfCWo6PqNjfR6NdauYWsrmwEySm1t1mVbhbeN4ZPMWVmMUc2pwl3/hB/%2BChf/R0HwZ/8MPq3/wA1FH/CD/8ABQv/AKOg%2BDP/AIYfVv8A5qKofBT9r/8AYX/aC0abxH8NvE2l/wBnReH9P11L/wAReEbvRYLnS75mW1vYJNRtoFubeR1KCWIuofCEhiBV39o34iN8K9f8H/DT4QfADw14u8Z%2BNr28TStL1rVV0ixgtbO1a4ubme6SzunQD9zEqrC5aS4jzsQO6gDv%2BEH/AOChf/R0HwZ/8MPq3/zUUf8ACD/8FC/%2BjoPgz/4YfVv/AJqK57X/ANqT4WwfsW%2BGv2v/AAn8FLK8Hi8eHbfRvDuqGCz8i/1i/tNPggu7kRyLbxxXN4izSqsm1Y5CiyHarcVa/tuL4ivrL4WeCf2ZvAV58Sk8XeINA8RaNfeOVttC06fR7W3u7nZqg015J2aC8tHSM2kbfNN5nlCBzQB6t/wg/wDwUL/6Og%2BDP/hh9W/%2Baij/AIQf/goX/wBHQfBn/wAMPq3/AM1FedX/AO2HZXfwg%2BHP7VPgf9mbwrqnwm8f2nhWRNZuPEyQa5DLrt3b2sEUGmrYyQ3Jie7g3g3cbMPMEauVUP3vgD4mXPiD9rDxv%2BzZ43/Z48MaNY%2BG/CumeINA8RWesreSaraXd1fW37%2B2NnELN1excgCabcrgkqRigCx/wg//AAUL/wCjoPgz/wCGH1b/AOaij/hB/wDgoX/0dB8Gf/DD6t/81FYX7JP7Svw%2B/az8afEPSdC%2BBmn6VoXhLUrFPDOvTPFKfEun3VuZYtRWIQr5EMm1mh%2BeTzYWilyhk8tfbvBg2aGYFJ2Q313FECc7US5kVV%2BgUAD2FAHl3/CD/wDBQv8A6Og%2BDP8A4YfVv/moo/4Qf/goX/0dB8Gf/DD6t/8ANRXs1FAHjP8Awg//AAUL/wCjoPgz/wCGH1b/AOaij/hB/wDgoX/0dB8Gf/DD6t/81FezUUAeM/8ACD/8FC/%2BjoPgz/4YfVv/AJqKP%2BEH/wCChf8A0dB8Gf8Aww%2Brf/NRXs1FAHjP/CD/APBQv/o6D4M/%2BGH1b/5qKP8AhB/%2BChf/AEdB8Gf/AAw%2Brf8AzUV7NRQB4z/wg/8AwUL/AOjoPgz/AOGH1b/5qKP%2BEH/4KF/9HQfBn/ww%2Brf/ADUV7NRQB4z/AMIP/wAFC/8Ao6D4M/8Ahh9W/wDmoo/4Qf8A4KF/9HQfBn/ww%2Brf/NRXs1FAHjP/AAg//BQv/o6D4M/%2BGH1b/wCaij/hB/8AgoX/ANHQfBn/AMMPq3/zUV7NRQB4z/wg/wDwUL/6Og%2BDP/hh9W/%2Baij/AIQf/goX/wBHQfBn/wAMPq3/AM1FezUUAeM/8IP/AMFC/wDo6D4M/wDhh9W/%2Baij/hB/%2BChf/R0HwZ/8MPq3/wA1FezUUAeM/wDCD/8ABQv/AKOg%2BDP/AIYfVv8A5qKP%2BEH/AOChf/R0HwZ/8MPq3/zUV7NXK/EH46fBP4SxNP8AFT4w%2BFvDSKuWbX/EFtZ4H/bV1qJ1KdOPNNpLu2kvxaN8NhcVjaypYenKpN7RjGUm/RRjJv5I4P8A4Qf/AIKF/wDR0HwZ/wDDD6t/81FH/CD/APBQv/o6D4M/%2BGH1b/5qK4vxn/wWK/4Jx%2BDLv%2By2/aUsNZvWbbDZ%2BGdKvNTaZvRWtoXQ/wDfQFYg/wCCs%2BieJfl%2BEP7DH7Q/i5X/ANTfWPw3aCzb0JmmlXaD7rXnSzvKIy5VXi32i3J/%2BSqR9pR8L/EOtSVWWWVqcHtKrFUIv5150E/lc9P/AOEH/wCChf8A0dB8Gf8Aww%2Brf/NRVv8AZW%2BI3xp8Yax8UPAnx01/wvq2qeAfiFFodnqvhPw1c6Tb3VrLoOj6mrPb3F7eMsiyajKhYS7SsaHapznyX/htL/gov4w%2BX4Z/8EpNWt4n%2B7feMfibp2n%2BX7tBtZz9Aa6L/gnXrPxk8Qa38edY/aA8G6T4e8XT/GaA6to%2Bh6ibu1tgPCPhsRBJSBvJhEbMegZmA4FbYbMKGLqONNS2vdwlFffJK55md8IZrw/hY18ZUoavl5IYihVqLRu7hSqVHFK1m21q0up9J0UUV3Hy4UUUUAFFFFABRRRQAUUUUAFFFFABRRRQAUUUUAFFFFABRRRQAUUUUAFfLX7RWt/2V/wVr/ZisN%2BP7T%2BGnxNtseuG8MzY/wDIX6V9S18Wfts6wdE/4LFfsVTs%2BI7jRfiZaye/mWGkBR/30Frlxs/Z0Obzj%2BM4r9T3%2BGsN9czX2XenXf8A4DQrS/8AbT7TooorqPACiiigAooooAKKKKACiiigAooooAKKKKAPM9S/Zk/Zt%2BNGj6D4p%2BMX7PfgfxZqdv4ftbWDUfEvhOzv544FUusSyTxswQM7sFBwC7HGSapf8MD/ALCv/Rlnwl/8Nzpn/wAYrk/i9/wUg/Yv/Y%2Bl8OfDT9ov4y/8I7rd94Us9TtbL/hHdRu99q%2B%2BJZN9rbyIMvDKNpYN8ucYIJ5D/h%2Bb/wAEsv8Ao6L/AMsnXP8A5CrxcRi%2BHadeUa86Smnrzezvfzur39TReIeIypfVI5xOkqenIsTUgo9bKKrxUd9lFb7anrf/AAwP%2Bwr/ANGWfCX/AMNzpn/xivTtA0DQvCmhWXhbwtotppumabaR2unadp9ssMFrBGoSOKONAFRFUBVVQAAAAMCvlb/h%2Bb/wSy/6Oi/8snXP/kKvp7wD468K/FDwJovxL8C6p9u0TxFpFtqej3vkPF9otbiJZYpNkiq6bkdTtZQwzggHiujA4jJ605LByptpa8nLe3nypaX7ilxdV4k/dTzGWJ5NbOvOry30vaVWpa%2B10lfa/Q8J%2BGH7C/ivwB488Ka1qfxn03UNB8D/ABQ8VeL/AA1pcPhCSC7C67/azz2lxcm9dJTFLqrFJUhi/dwhGQsxkHketf8ABGGXXvFPj3xJefHbw7FceMvAXj/wv/bVr8L0TW7mPxNIri41XUTfF9Uey2iOFAtunljbtTAYe7WH7fnwj1fTrGbSfCniOa%2ButF8W6ld6TL9gt5dLTw5erYajHdyT3aQQMLt0gRml8tiSxdY1d14Twb/wU%2B8D/Hab4caj8BILOWx134z6j4G8bwX99Y6lLp5t/Bur%2BIUNtc6VfXFnK7G0sDvSeZAk00bBJVPlekQddJ%2BwwH8Q6rr4%2BKGDqfx10n4jmIaJ/q/sWkafpv2DPn/Nv%2BweZ52Bt83b5bbdzd58a/gdqH7QH7POu/BLx/4xit7/AFqwaNPEGh6WYBZXSSia1uooJZZctDKkL7WdldoznAbA%2BePFv/BVaV/gh4U8a/CL4U6/4jvdUg%2BHsniPxTL4fgt9G0VvEl3pypBcwDUmuY7hrW981UgN1FA00HmzMpJb6Q%2BMPx48P/CT4BePPj7daNqVzY%2BAvD%2BsapfWVxp81pLcDToZZZVjE6KWVvJYJKoaNwQyMykEgHOfAj9nv4mfC7VPEfjfx18V9B8R%2BJ/HXiyLVfG1/aeDpbGzltIdMisLeysbZr6ZrQL9nglaSWW53M1wNqiVPJ4D4H/sIfFz4D2unS%2BHP2jtFv77wJ8Oo/Avwhm1TwBK8Oh6GtzbSumoImoq2qXDxWNjC00b2gxbBhGGZien/Za%2BNnx%2B8Q/FTxN8Bv2lR4RufEWjeCvDviu11LwXpVzZWgtdVk1KA2TR3NzcO8tvPpc2Zw6LKk0ZEUZDLXkk/wDwUH/aJ0TSb34tX3g/wVqXhbxLpfxAf4daBH5unX1td%2BHDcm2XUNQuLlrd4r2KznkdxDbi0JRC043SAA7TV/2CfHmt/C7xL4Y8RfEH4YeJPEHjb4jN4u8T3PjX4L/2tocVx/Z9vYxjTtKk1NfsciJaQSCWS4uC0rXDsrGY7aHxB/4JdeB/G3gL4c/AwX/gyTwN4D8O2Gjyz698OItQ8U3MEEitOtrrBuUSwW7VFjnCWrsVeUo0bOpj5/4D/wDBRP4reM/AnjSLxHpWk%2BIPFdrq2jaP8O7FPAmreD7nWdU1OzaeO3uNJ1Waa9gtodkkz32fKktobmSNT9mfOn4Z/bB/aj8R/s2fs0/tDh/AMMfxL1Tw9YfEbTf%2BEdvWaSTU2iTdprfbh9kVCZG/fC5JG1fViAbXiL/glZ8Dr34%2BWnxx8G%2BOvHnh7Om%2BL49V0ey%2BImuy28974gkhluby3ilv2trPbIs8hhjg8p5Jo3Kg28WJvhL%2Bwx8YPht4f8WXlz%2B0no3/AAl%2Bp/COw8AeD/EPhz4eHTLbRLWwS8%2Bx3s9ob%2BU3lykt4XO2WCLEYSOOLc5PQfFr4zftBfCj9qDwD4MPiDwPrPhf4heKJNL0/wAHWnh28j1%2BzsodNluLnVXvjetC8MM0aK6G0jULcwr53mOiyeTax/wUj%2BNV7rfxo8SeAfhroeoeDfCnw10vxJ8MLs211Jc6tBPqOoWE%2Bq3XlOd9husnuYkhQPJaxiUSHz1WIA9s8afsaeEdc/Zx8Bfso%2BEddOi%2BCvBeoeGxcab9i89tS0vRpoJ4dPZt6eWsslrbiR8OGjEiFT5hI5X4/fsAyfGP4v674/8AD3xL0zQdJ8cxeGYviHp83hL7ZqF8NC1CS9s3sb37TGLGQmTy3Z4bjARGiEUgZ28hm/4KgfEi%2B8E32k%2BBPHXgXxfqOlfGSz8IXfxJ8D/D7Vdd0q70%2B58Pvq8d7Y6HYX8t7qMizL9heK1upvLCy3TERwyxx4Xj/wD4K8/FP4efBzQ/jd45ufh14Y0%2B1%2BDtp45v9O1OxurmfxzN9rvY73SdFZLtBZ3Vvb2Uc8scq3bwHUYUlRRDLIQD6G%2BJH7Ffjj9ob4g3eq/tKfGPRdY8LR%2BG/Emg6NoHhXwXLpN2LHWIBbTR3t5Lf3IutluAAI4rdGlCyspKIq894H/4Ji%2BGdTvLnWv2lfiK/ifUI9K8NaZoM/w8j1LwSNNt9CTUksZg2nakZ3uSNWuw7iZIioiVII/L55nVf%2BCinxa8N/tr3vwY8Q6Lo0XhKx8bX%2Bh3FmPB%2BorKtnbeHH1cX8evm4/s24u3kQR/2OkQvFidpmOyJ2re/Z2/aX/a9%2BMxsfBHivVvhzofiLx38JtL%2BIHgfUbPwjf3dpotvPcot1pl9AdSje/kijmtwl1FLarI0rsYEEQWQAl8O/8ABPT4pfDX9j62/Ys%2BEv7SOmQ%2BGb3RdW0zxZf%2BNfCN/wCIb68ivnk3NaSXOrgWjJHK6hZVuYi2H8sfMr9DpP7Hvxr0f9rPS/j1J%2B0F4c1nwr4c0C00Pwj4T8S%2BAbq7v9CslgRL6WDUE1WOI3t26ZkupLR2WJUhUbfMMvjunf8ABRr9oKy%2BC3gXUfFuv%2BDP%2BEh%2BJ3xA8TWfg/xNofwq1zUbSTw3pLzrHqCaJZX9xe3k10IY5kSK5VUt7rznIEDo/SeOf2%2Bvi/Zw3fxC%2BFniH4feJfA/gDwP4Q8QeONXt9Fu9/imPWLiVZ5NJYXpXT44baH7TGJluzK0ywkx7DMwBpeFv%2BCUngVLuLwT8S/G1rrHw30bR/EmleFPCOg6Nc6JfW9prepQahdR3mp2t75t1skt0WMwpakj5pfOcBwvh/8A4Jey/C28vvFPwR/aE1q114fGQePtFn8fXOr%2BKrKFv7Dk0c2d1De6r5t1%2B7nnmFwk8MvmC23Flt1U6vwK/aj%2BOHxA/aO8a/Bv4neMvDvhaeDWdfsvh/4Y1T4Pa5ZT6na2c4jg1CLVrm%2BWz1VBGRJLBaRqwVwd8YBJofD79rv9oHwbq3xqb436v4N8a6f8Ptd0bwt4MHgXwfd6Hc6/4nu7aOeTTFW61O%2BVxuvtMhWUFFjdroyYWJioB6x8F/gTD%2BzZ%2By23wgTxMdYlsbPVry91IWK2sc11eXFzez%2BTArMLeATXEixQhm8uMIm5tuTm%2BOP%2BUhfwv/7Iz48/9O3hCqv7KPxl%2BKHx8/YwX4lfGm00GDxTL/wkOna0nhe3ni08y2Oo3tjuhSeSSQKy2yt8zE5J6dBa8cf8pC/hf/2Rnx5/6dvCFAHs1FFFABRRWb4w8ZeEPh54Xv8Axx4/8V6boei6XbNcanrGsX0dta2cKjLSSyyEJGgHVmIAoA0qK5zTPjD8I9a%2BGQ%2BNej/FLw5d%2BDTp7348W22uW8mmG0QEvcfalcxeUoVsvu2jacnisS//AGrf2XNK%2BFNr8d9T/aS8A23ge9ufs9n4yn8Y2SaVPNuZfLS7Mvku%2B5HXaGJyjDsaAO%2BrwX9j/wD5N61f/svfjn/1YGq17joutaP4j0e08Q%2BHtWtr/T7%2B2juLG%2Bsp1lhuIXUMkkbqSroykEMCQQQRXh37H/8Ayb1q/wD2Xvxz/wCrA1WgDrNf/Ym/Yy8V67e%2BKfFP7I/wx1LU9Su5LrUdR1DwDp0091PIxeSWSR4SzuzEszMSSSSTk1U/4YH/AGFf%2BjLPhL/4bnTP/jFed%2BP/APgsp/wTc%2BF/jvW/hp46/aO%2Bw634d1e50zWLL/hENYl%2Bz3VvK0Use%2BO0ZH2ujDcrFTjIJHNZH/D83/gll/0dF/5ZOuf/ACFXgzxvDCm1KdG93e/s736303ve5p/xE3E0P3SzyceXS31uqrW0tb6wrWta1la1rK1l7NoH7E37GXhTXbLxT4W/ZH%2BGOm6npt3HdadqOn%2BAdOhntZ42DxyxyJCGR1YBlZSCCAQcitb9pr4J2X7Sf7Onjv8AZ71DX5dJh8b%2BEdQ0N9VggEr2f2q3eETBCQHKFw20kBtuMjOa8a8A/wDBZT/gm58UPHei/DTwL%2B0d9u1vxFq9tpmj2X/CIaxF9ouriVYoo98loqJud1G5mCjOSQOa9x%2BOvxh8Ofs%2B/B7xH8b/ABlpmo3WjeFdKl1PWU0qFJJ4rOIbp5grugZY4w8rDOdsbbQzYU%2Bhga2W1oSeDlBpPXk5bX8%2BVLW3cmXElTiT97PGvE8ml3VlV5b62vKpUtfeyavvbqeR%2BIv2JviF4/0H4uy%2BPfj7axeJPi38O9N8M32teE/Cs2mw6bJZjUQtzFFJfTyMji/AaIzA4ibEg8wbOG%2BCP/BKaL4ReIofE0PxJ8IWG34uDxy%2Bg%2BAvhfHoGkQMPCN54cNnbWqXkphDfahdtKzyMzoykfOHT0X4z/8ABRD4O/BbS/F2uap4b1PULHwV4ts/DesaiPEGg6VaPf3GmxaiEhuNX1Kzhk2QTwBgH375gqK%2ByQpyNr/wUd0nxT4%2Bjv8AwTcWlx4C1zwZ8JNd8I6rFoUk95df8Jh4g1bTSsyPdwrHGIrOzKsAXgaSZ2S5wsFdxJ1fwN/Yo8Q/AKPwJd%2BEfi5ZXN/4G%2BBulfDq3l1Dwu7Q3f2OSBjfNGl2rLvWFgIQ52FwfMbbtbrP2jfgF44%2BKniDwf8AEz4P/E/TvCPjPwTe3j6VqmteGn1exntby1a3ubae1S6tXcH9zKrLMhWS3jzvQujeYeDf%2BCjR%2BJn7RXg/wR4Q%2BD/iay8A%2BI/BXizX7TxZqmhLO3iGHSbjToY59Ljsrmacxv8AapW8qe3SeYNA0KEE59J/ak%2BNHxA%2BHujeBfC3wcTSIfFHxJ8b2/h3QtQ8T6XPcWWm5srzUJ7me1jmt5ZttrYXAWISxEyMgLKM0AU/Dv7LGseAv2XbX9lbwZ4p8L6hoemeB7DQrH/hO/BLaxHeTx7hd3OoQLeQR3cdwm3MCCHY5kbe6uqJ53Z/8E14vDf7PL/Bfwje/CR7zVvGU3iTxHP4m%2BB8Oo6Ml28CW8R0zSRfxR6cbeCG2igLyXG1IPnErOznodK/a6%2BKb/sE%2BNf2j3%2BHdlrHjjwL/wAJXpl9omjw3As9Q1PQ9SvtNlmhjBknW3lksjOIgZJVjfZl3GTyfwR/bM%2BI/wAevB/xM0fwV%2B018ILq/wDhhqFld6h8UtL8DXt94Z1HR59PN0zR2yayrJLDIk8byLezRjyDlQ7NHEAaVt/wT%2B%2BJXg74gfCVvhf8efDafD34OeErHSPCfgXxh8P7nVJIruGM282rm6g1W1Rr57X9zHJJBIsHmTsikzPXRa3%2ByF8VPGv7U3jP4ufEL4w%2BFdR%2BH/jj4exeC9W8CWnga%2BtNS/syM37rt1aPV8LMZNQm3SJaqdioqCNx5p8i8Yf8FDP2ofBX7FPw2%2BIt34J8I3XxX8V6Dp/inxVp7aPd22m6B4euL6FFkltjdySx3TpdW9skTXBzP9olG%2BO1kjr1Dxl%2B2N4%2B/wCG5vA37PHw48O6Pc%2BCbvWdQ0Lxv4hvY5WuDrCaLc6pHaWRWRUXyIoITcM6yA/bY40KvFLtANn9lv8AYN%2BHf7Jnxa8d/En4feNfFl7aeMrXSra20bxF4z1nVl0yGyt/JCiTUb648wtwVbapjUeWp28V7B4P/wCQTN/2Fb7/ANK5a1Ky/B//ACCZv%2Bwrff8ApXLQBqUUUUAFFFFABRRRQAUUUUAFFFed/GT9rn9mD9ntXX41fHzwp4bnRd32HUtaiW6Yf7MAYyv/AMBU1nVrUaEOepJRXdtJfe2jswGXZhmuJWHwVGdWo9owhKcn/wBuwjJ/hbzR6JRXyRc/8FevhV8QJm0n9j/4A/E34yXrMUiuvDXhSa00xWHH728u1QRLnjdsIpsWq/8ABZ74zZv7Hwx8Hvg1psv3LLVrq48QavDn%2B80OLVsD6c15v9tYOo7YdSq/4IuS/wDAnyx/8mZ9r/xDPiPCLmzeVHALtiq0KU/lRXta/wB9GB9c1W1bWNI0DT5dX13VbaytIF3TXV3OsccY9WZiAB9a%2BUv%2BGCP22PH/AD8c/wDgqt48kik%2B/afDzwzY%2BHvLH91Zot7H/eIzVjSv%2BCM/7GV3qEWtfGM%2BOfiffQtujvPiL47vb5t3disbxoxPoVI9qPreaVP4eGt5znFfhFTf4h/q7wHgtcbnntGvs4bC1p/dOvLDw%2BfL56nY/E//AIKlf8E%2BPhDJJb%2BMP2rvCks8Rw9toV22qyq390pZLKQ3scVww/4K1eHPGv7r9nf9jL45/EEP/qNT07wI9ppz%2Bmbm4ddufdK99%2BF/7MX7OPwTjjT4RfAjwj4baMfLNo3h63t5SfVpEQOx9ySa7mj2GdVfjrQh/hg5P75y/wDbQ/tTw0wH%2B75ZiMS%2B9fExpRf/AHDwtK/y9r8%2Bp8kn9oj/AIK2fEr5fhx%2BwJ4M8CQv/qL/AOI/xGS8yOzNBYKJE/3Sc0D4Bf8ABXn4ijd47/bx8A%2BAkk/11p8PvhsuoADuqy6gwdf97qK%2BtqKP7K5/41epL/t/lX3QUfzD/X9YXTLcpwVDz9h7eX/gWKqVv/SP8j5IP/BKi98dfP8AtF/t6fHLxsjf67S4vFo0vTpfXNtbp/JxxXV/D3/gkl/wTo%2BG0guNI/ZW8O6jPu3SXHiYzas0jdSzC8eVSSfbHtX0ZRVwyXKoS5vYxb7y95/fNyOfE%2BJnH%2BJouisyq06b%2BxRaoQ/8Bw8KC%2B%2B/qYngz4Z/Df4cWn9n/Dz4f6JoNuF2iDRdJhtUx6bYlUVt0UV6MYxhG0VZeWn5HxdavXxNV1K03KT3cm5N%2BrbbfzbCvGf2X/8Akt/7R3/ZZrH/ANQrwvXs1eM/sv8A/Jb/ANo7/ss1j/6hXheqMj2aiiigAooooAKKKKACiiigAooooAKKKKACiiigAooooAKKKKACiiigAoqO9vbPTrOXUNQu4oLeCJpJ55pAqRooyzMx4AABJJ6Vz3wy%2BM3wf%2BNXhD/hYPwb%2BK3hrxboAmkiOueGddt7%2Bz8yP76edA7JuXIyM5HegDpa%2BBf%2BCoOrf2D/AMFSv2HtW3bd2veKrTP/AF3k0KLH47q%2Bz/hR8dvgh8eNMu9a%2BB3xk8KeM7PT7r7Nf3fhTxFbajFbTbQ3lyNbu4R9pB2kg4INfCX/AAWhmk0v9uf9jXxWjFU0Xxrf3c5/6Z/2x4ZjYH2O%2BvLzmThllSXblf3Tpn3XhpRWJ43wlF/b9tH/AMCw2LS%2B92XzP0Yooor1D4UKKKKACiiigAooooAKKKKACiiigAooooAyvA3/ACJOj/8AYLt//Ra1q1lDwZoaZWBr6FMkiK31a5jRfZVWQKo9gAKX/hD9J/5%2B9V/8Hl3/APHaANSisv8A4Q/Sf%2BfvVf8AweXf/wAdo/4Q/Sf%2BfvVf/B5d/wDx2gDw/wAQf8E0/wBnzxL4j%2BM3iXUNX8TCX426dbWeuW6ajD5OiCJSWk01DCRA005FzMJfNSWZVLKV%2BQv8Ff8ABO74c%2BFvF0fxC8QfGLx94p8QH4nSeO7zWPEF7p/mXept4Vn8L%2BWyWtlDEluLCcsscSR4mRGzs3Rt7b/wh%2Bk/8/eq/wDg8u//AI7R/wAIfpP/AD96r/4PLv8A%2BO0AfOX/AA6k%2BDFn4X0DwD4c%2BM/xI0jw7pFj4Qh1TQdO1PTxB4gm8NNanTLu8Z7FpRNtsrZJfs7wRypEoZPlXH0DrHw60jxb4H134dfEK%2BufEek%2BIob621K11SOFQ1ldB1ezHkRxgxLG5jUtmQqBvd2yxuf8IfpP/P3qv/g8u/8A47R/wh%2Bk/wDP3qv/AIPLv/47QB5n8Dv2PdL%2BBcmpazp3xz8d%2BINf1SHRbG68UeJp9NnvjpGlSSvaaSPLso4vsw%2B0XYZzGbljeTOZ/MKyLy1//wAEy/gNr0/ifTPF/izxfrPhjxFpPifT7LwVe6lbJp3h9PEMjSavJYtDbx3KyTO8hVpppvIErpAIkYrXuv8Awh%2Bk/wDP3qv/AIPLv/47R/wh%2Bk/8/eq/%2BDy7/wDjtAHjmjf8E7v2fNXbWb/9pLTz8ctS1yXTmutT%2BMOgaPqRiSwiuY7OOK3gsYLaLyhe3pEiw%2Baxu5tzsGwOel/4Je/C/Qf2ffhl%2BzR8FPjX44%2BGvhr4W6jBqWkJ4K0/w8supX8EiSw3d59s0m4R5VkV5CYkiWRppDIsny7foT/hD9J/5%2B9V/wDB5d//AB2j/hD9J/5%2B9V/8Hl3/APHaAPKtN/YzGl/tVat%2B1hB%2B0n8QZdS1qws9PvfDd3BoU%2BmLp9vHgWUJk0xru2gklL3Eiw3CGSZyxOFRVzfBH/BNX9kj4OfFPxB8af2c/hXoXwv8Ta94Hi8Mxan8P/CWj2B0uFJp5vtVsn2JkFwzTKHMokjdba3DRkR8%2Bz/8IfpP/P3qv/g8u/8A47R/wh%2Bk/wDP3qv/AIPLv/47QB4vP/wT98GyaZaarb/HP4gQeOrXxw/i1vilHPpba1PqT6Y2ksZInsG08w/2eRbCAWgjVUV1USjzKku/2A/A118K9D%2BAsfxl8eQ%2BA7C3kj8S%2BEUudOe38XmW7e7uX1KZ7Jrom4mklMy201ukiyuhXYdteyf8IfpP/P3qv/g8u/8A47R/wh%2Bk/wDP3qv/AIPLv/47QB5DH%2BwR8Mh8Xz8TLv4g%2BLrrRh40ufF0Xw7ubmybQ49duLSS1mvcfZftbFkmmfyGuWtxJIXEQYKRH8Hf2BfAnwV0DWtF8O/GPx9fTXvgSHwZ4b1bVNRsnu/CehwLMLe00547RBmIzbhNci4nkMMPmySiNQPYv%2BEP0n/n71X/AMHl3/8AHaP%2BEP0n/n71X/weXf8A8doA808SfsY/Dy7%2BG3w8%2BHnw28YeIfAUvwqs4bPwJ4g8J/YWvdNtUsTYtb7b61uLeSN7chWV4W5RHXa6Kw5I/wDBMb4D2kPh/RfDXjLxlo%2BgaV4f0LRdf8M2WpWz2niu00e7ku7BdSae3knZlnlmZ3t5YGnWVo5jJHtQe8f8IfpP/P3qv/g8u/8A47R/wh%2Bk/wDP3qv/AIPLv/47QB5/YfstQTfHax%2BO3j344eNfFk2g3eoXPhDw5rZ0yLTfD8l4jRSNbizsoJ5isDvAhuppyscj87mLU3Qv2Kv2dIPhDd/BH4ifDnS/iBoWpeLNS8S6pB8QtHs9VF5qd9fT3stxJHJD5RZZLh0jwg8uNUReFFehf8IfpP8Az96r/wCDy7/%2BO0f8IfpP/P3qv/g8u/8A47QB5x8EP2VPgt%2Bxr%2Bzjq3wW%2BA3hO10jQxLrGqNBbWFtb757uWa4fctvFGhCb1hT5crFDEhJ2Zqp44/5SF/C/wD7Iz48/wDTt4Qr1E%2BDNDfCztfTJkExXGrXMiN7MrSFWHsQRXl3jj/lIX8L/wDsjPjz/wBO3hCgD2aiiigArxD9v7w34i134J6Nq2ieFNS1%2B08N/Evwrr/iDQ9H06S8urzTbHWrS5uDFbRK0ly8Kx/aRCitJJ9n2oruVU%2B30UAfF3hr4e2nxJ/ZP%2BLfh7xfoXjrwjp3if4l3/jzwnbf8Ky1S6u7O1i1mC7tZX00W/mTNcXtm95Jp2FuXhuyHjjaQ48jHw0/aKmuI/j58RtW%2BJekWXiL9ovUvE%2Bn%2BPPh38H7qPXNBsv%2BELttGWWLw1dW2pT2sF3dW90hF1b3EiJIkziKS482L9LaKAPC/wBi7wJ8WvBn/BPz4d/Duw0TTfA/izTPAtlZ21prujT3kOnyJGFQ3NoLuOUuUAZ4ftAZHdl3nbzlfsM2/iW0/ZYuLbxnq1jf6vH8b/Gi6nfaZpz2ltcTjx9qvmSRQPNM0KFskI0shUEAu2Mn6JrxP9h6wtNT%2BAuv2N9AJIpPjL8Rgykkf8ztrRByOQQcEEcgigD2yisr/hD9J/5%2B9U/8Hl3/APHaX/hD9J/5%2B9V/8Hl3/wDHaANSqmvaFo/ijQ73wz4i02K80/UbSS1vrO4TdHPDIpR42HdWUkEehqt/wh%2Bk/wDP3qv/AIPLv/47R/wh%2Bk/8/eq/%2BDy7/wDjtAHz94J/4Jg/Cj4afCPwH8MPh58aviPpWofD7W9T1TS/HK6np9zrd5LfpNFdC6kubKSCTdFN5SusKSxpDEI3TaSbHgb/AIJifAP4f%2BGvD3hXRPFvjCS28NeGvh5odg13qVs8j23g3VbvVNLaRvs43SSz3kq3DcB0VBGIWBdvef8AhD9J/wCfvVf/AAeXf/x2j/hD9J/5%2B9V/8Hl3/wDHaAPEPht/wTu8C/Cn4iaX8QPCXx1%2BIir4X8N67oXgPQri802Sw8LWeqzW00yWiGx3ymJ7SDyTdPcbFTYdyfLXpHxz%2BAeifHfwbpfhzV/Gmu6Jqmga1a6x4e8WaA9quo6ZqEAZVuYhPBLbsWjkmidJIXjeOaRSmDx0/wDwh%2Bk/8/eq/wDg8u//AI7R/wAIfpP/AD96r/4PLv8A%2BO0AcX8Nv2bbD4RfDCH4V/D34q%2BKrC1TTtXW41EmwmvLrVNSumvLjWpHltGU3v2mW4mACi2L3Mm6BwIwnM3P7CvgDXfgr8Qfg747%2BJ/jLxHN8VW2%2BP8AxdqlzYx6pq1v5EVsbQ/ZrSK2gtzaxfZ/LhgjGyWVhiWR5T61/wAIfpP/AD96r/4PLv8A%2BO0f8IfpP/P3qv8A4PLv/wCO0AeW/tW/8E/P2Q/20NAfSvj58CfC2r6gLO3s7LxLceF9PuNUsLaG4E6wQXFzBK0UZbeCg%2BUiWTgFiap63/wTb/Yl1b45eD/2jNP/AGbfBWj%2BLfBmuSatY6tovg7Tbea9uWtJLZDcyi382TyhIJIyHUpLFEwPy4r17/hD9J/5%2B9V/8Hl3/wDHaP8AhD9J/wCfvVf/AAeXf/x2gDUrK8H/APIJm/7Cl9/6Vy0f8IfpP/P3qn/g8u//AI7V%2BwsLTTLRLGxgEcUYwqgk98k5PJJOSSeSTQBNRRRQAUUVyPxi%2BPnwV/Z88NN4w%2BNvxS0PwvpwB2T6zqCQmYjqsak7pW/2UBY%2BlRUqU6UHObSS3bdl97sdGEwmLx%2BJjh8LTlUqSdoxjFyk32UYqTb9EzrqK%2BQH/wCClXxd/aHlbSv%2BCeH7IfiHxxaOxVPiH40DaH4dQf8APSNpgJrsDuihH5oH7BH7XX7SH%2Bm/t1/tt6sNNm5m%2BHnwfjbRtLA7xS3TA3F1GfRwDxw1eX/a0a%2BmDpyq%2Ba92H/gcrJ/9uqXqfef8Q9q5V73EmNpYD/p3JutifT6vRcpQf/X6pRt1ij1D9oL/AIKM/sbfsz3reH/iV8bNNl17f5cXhfQA2pam8p4Ef2e3DtGxPA8zYPevMV/a9/4KI/tFnZ%2Byb%2Bw4ng3Rpv8AUeMfjnqDWOVPRhptsTcYxyG3Mp4/H239nz9i39lf9liyW1%2BA3wP0HQJhHsfU4rXzr6VfR7qUtM49i5HJ4r1Cj6tmuJ/j1lTX8tNa/Ock3/4DFC/tzgPJNMry2WLqL/l7jJe76xwtCUIfKrXqeaPkQf8ABPL9qH43f6X%2B2V/wUM8a6lbS8y%2BE/hhBH4d05V7wvJGGluU932t78V6N8Gv%2BCZv7CXwHZLvwH%2BzT4blv1bedX161OqXhk6lxNdmR0Ynk7So9q91orWlk%2BXUp87p80v5p3nL75OVvkkcWP8RuM8fhnhY4t0KD/wCXWHUcPS%2BcKEaXN/2/Ko/PV3bBBDbQpbW0KxxxqFSNFAVQOgAHQU6iivSPiW23dhRVfU9V0vRLJ9S1nUre0tohmS4upljRB7sxAFeRfEb/AIKIfsL/AAnVx45/aw8C28sWfMtLTxDDd3C/WG3Lyf8AjtY1sThsPG9WaivNpfm0c%2BIxeEwkeavUjBf3pJfm0ey0V8lH/gtR%2BxXqjs/w9h%2BIPi%2B3BIS98M/DrUJopCOoUyRoT%2BVH/D4b4Jx/vbv9mj49W9ufu3U3wquRGfoQ5P6Vwf25k/SvF%2Bl3%2BKi1%2BJ5n%2BsmQ9MTF%2Bl2vvUWvxPrWivkr/h83%2Bykf3a%2BA/iuZh963Hwzvt4%2Bo24/Wg/8ABX/4Uaj%2B78EfsmftCeJZe0Oh/Cid2z/20kSj%2B3Mo6Vov0u/yiw/1kyHpiIv05n%2BUG/wPrWivkof8FMfjNf8A73Qv%2BCW/x9kjb/VnUNBt7ViPdWlJWj/h5L8f7P8Aeax/wSw%2BOCR9jZWdrcNj/dWQUf23lv8AM/8AwCp/8rD/AFiyn%2BeX/gur/wDKj61or5KP/BS743awfI8Gf8EtPjzPP0K65o9tpsef995WBHvR/wANi/8ABTfXP%2BRV/wCCSc9vE33bnXfjPpMBH1iEZb9aP7awD%2BHml6U6j/8AbEH%2BsOWP4OeX%2BGlVf/uNH1rXjP7L/wDyW/8AaO/7LNY/%2BoV4XrzD/hb/APwWV17/AJBP7H3wj0Hd0/tz4gTXW36/ZlGfwrov%2BCddx8cbrW/jzcftI2Hhm18aN8ZoDrNv4OlnfTk/4pHw35Iia4/eH9z5W7d/HvxxiujDY6GKm4xpzWl7yg4r729/kdWEzKnjKjhGnUjpe8oSivS7e/lY%2Bk6KKK7T0QooooAKKKKACiiigAooooAKKKKACiiigAooooAKKKKACiiigDyL9vv4feNPit%2BxR8U/hx8PNGl1PWdZ8Daja2WkQOFfUy0DbrNSxCgzruhG4hf3nJAya8U8OXGufEWy/aW8a%2BAfgD4rk034k%2BFxaeC/CXirwhqmgHxDf2Xh/wCz3BnWeGGSwSYyWtisk3ktJ9jYxbkRXP2RRQB8cf8ABL/wL4y8N/Enxz4g1W5%2BI2u6RP8AD/wXpVn4x%2BKvgN/DeqvdWS6qs%2BkRWhtLRZLS0WaCRJ/JZmkv5ka5ufLHleF/8Fs9M%2BK%2Bh/GjwL4%2B8beNPD2oaFomharqfhqw0rwxPZ3enInibwbHJ9quZL2ZLsnzUwyQ24XByG3Db%2Bndfnp/wXh0Z9b8JNbxA74Pgb4rukYdVMPirwLLkfghrys8TeTYi38kn9yv%2Bh974VzjDxLybm2eJoxfpOfI/wAKjP0Loqh4W1hfEXhjTfECEFb6whuAR6Ogb%2BtX69RNSV0fC1ISpVHCW6bT9U2n%2BKCiiimQFFFFABRRRQAUUUUAFFFFABRRRQAUUUUAFFFFABRRRQAUUUUAFFFFABRRRQAUUUUAFFFFABRRRQAUUUUAFFFFABXjPjj/AJSF/C//ALIz48/9O3hCvZq8Z8cf8pC/hf8A9kZ8ef8Ap28IUAezUUUUAFFFFABRRRQAV4z%2Bwf8A8kQ1z/ss3xH/APU11uvZq8Z/YP8A%2BSIa5/2Wb4j/APqa63QB7NRRRQAUUUUAFFFFABRRRQAUUUUAFFFFABRUd5eWmn2kt/f3UcEEMZkmmmcKkaAZLMTwABySa%2BWPiX/wVM8D6x4tufg5%2BxD8M9W%2BOXjeE%2BXOnhZhHommseA13qbjyUXPdCwOCpZTXJisdhcFFOtK19lu2%2Byirtv0X3Hv5Dwvn/E1aUMtoOagrzm7Rp01/NUqzcadOPnOav0UnofVM00NtC9xcSrHHGpZ3dsBQOSST0FfNfxf/wCCrP7LHgDxO3wy%2BFl9q/xY8bHKw%2BEfhdpzatPuBx%2B8mj/cxgHhsuWXnK8Yrg9W/Ye%2BMX7Quny/E3/gqv8AtMwDw1bL9ok%2BF3gvU30jw1YJ1/0y6LLLd4z1Zl2nOHKnFQ%2BDv29f2NPg4JfgX/wTa/Zj1X4l3towW9s/hP4bWLTIHA4e61FwsbZ/565lznls14%2BJzPFaczjQi9uf3qj/AMNON7fNyfdI9nG1PDDguyzXFyx%2BI/59UJOlQv29s4Sr1rdfq9CEX0qW94110X/grH%2B1qfN13xB4d/Zv8Iz8ix0oJrviaaM/wvMcW9vkYwyYkQk5BxXX/B//AIJTfsi/DPxIvxG8b%2BG9T%2BJvjIkNP4v%2BKGqPrN27jkMEl/coQckER7h/e4rmE8Zf8Fm/jK32jw78IPhF8HNOfny/FeuT69qajtj7GBBn1DAU5v2MP%2BCjfj8eX8Xf%2BCp2o2FlL/rtM%2BH/AMOrHTXUd9l2WMo%2BpHFYU6dCc1UeGq15dJVLJeqjOSjH5U7nkYvxe4nrYaWEyPCSweHkrOGGpxwyku1StOo8TVT6%2B0q2f/PvofVOta74b8H6M%2Br%2BIdYsdK061QeZdXtwkEMKjplmIVRXz78Sv%2BCun/BOj4Wap/YeuftQ6JqN6WKrbeF7e41jLD%2BHfZRyoD9WFYWg/wDBGz9jqfVIvEfxum8b/FjV4W3LqfxM8bXd%2B27uTGjRxsPZlIr6E%2BGXwP8Agz8FdN/sf4QfCfw54XtioVofD%2BiwWgcf7XlKu4%2B5yTXqc2d1to06S83Ko/uXJH8WfB8/EeId1GnSXm5VZfdHkj%2BLPnJv%2BCxnwG10eT8JP2f/AI2%2BO7h%2BLeHwv8Mbp/MPrmYxgD1PYUi/tsf8FE/Gp%2B1fCn/glFrUdgfuXfjb4ladpM3tm2ZWcfnX1vRT%2BpZlU/iYpr/BCEfxfOw/s/N6v8XGtf4KdOP4y9oz5KPxr/4LGa3%2B60r9iT4X6GzdJda%2BJDXSp9RboCfwpDof/Bbrxj%2B61Lxz%2Bzr4OgfpLo%2Bm6vqF1GPcXGIya%2BtqKP7LlL48TVf/AG8o/wDpMF%2BYf2LOX8TF1n/2%2Bo/%2Bk01%2BZ8kj9i7/AIKPeKf9I%2BIH/BWHVLcv1s/Cvwt02ySIegkLF2%2BpGaD/AMEvviL4l/d/E7/gpn%2B0HqcJ/wBZbaL4ri0tJPZhFE2V9q%2BtqKP7FwD%2BNSl61Kj/APb0H%2Br2Vy%2BNTl/iq1X/AO5EfKGmf8EWP2CZL2PVviL4K8S%2BOb2M5W88Z%2BN9Ru2z3JVZkRs%2B6kV678Of2If2O/hI8c/w4/Zg8CaVcRY2Xtv4XtjccdP3zIZD%2BLV6lRW1HKssw8uanRgn35Vf72m/xOjD5Lk%2BFlzUcPCL78sb/e03%2BIkcccUaxRIFVRhVUYAHoKWiiu89MKKKKACiiigAooooAK8Z/Zf/AOS3/tHf9lmsf/UK8L17NXjP7L//ACW/9o7/ALLNY/8AqFeF6APZqKKKACiiigAooooAKKKKACiiigAooooAKKKKACiiigAooooAKKKKACiiigAr4i/4K66J/wAJAdRsNm7y/wBl34l3OP8ArjqXhCbP/kPNfbtfKX7f2if8JL8UX8OBNxv/ANlL4sW4X13z%2BFl/rXJmEPa5fWh3hJf%2BSyPouEMV9S4uy7EfyYihL7q1Fv8AC57h%2Byprf/CTfsvfDfxJv3f2h4B0e53evmWULZ/Wu9rxL/gmzrY1/wDYA%2BDd%2BHzs%2BHOk22f%2BuNskP/sle208DP2uBpT7wi/vjEz4qwv1LinMMP8AyV68furVUvwSCiiiuo8EKKKKACiiigAooooAKKKKACiiigAooooAKKKKACiiigAooooAKKKKACiiigAooooAKKKKACiiigAooooAKKKKACvGfHH/ACkL%2BF//AGRnx5/6dvCFezV4z44/5SF/C/8A7Iz48/8ATt4QoA9mooooAK8h/bX%2BJHj74efCfSLL4ZeJW0LWPFnj/wAO%2BGIfESWkM76TFqGp29vPcxxzo8TTCF5BF5iPGJWjLo6go3r1c78WPhP4B%2BN/gK9%2BGfxN0NtQ0e/eCSaGK9mtpY5YZkngnhngdJYJopoo5Y5YnWSOSNHRlZQQAfOlh8Zf2qJ/2Q/ihYeDfEGo%2BKvHfw%2B%2BI134Zt/FFroNrLqV9pcV9atNfx2cMSW89/Bp1zLiJIhHNc2oAhAk8qvIYP27/wBozXIP%2BFA%2BCdQ%2BKur6jL8fbnwdp3i7/hBtI07xdfaTF4QtvEZb7FqlvaadZ3JluDCHureJfssJfyvOda%2BxPC37KPwX8EfD26%2BF/hCz8SabpF7aTw3Qs/HmsR3Urz3Ul1Pdm6F39o%2B2yTyySPe%2BZ9pct80pAAFGT9in9nN/hlZ/CiPwpq8Gn2Gvya7a6paeM9Wh1pNUkWRJL46tHdDUGuXjmlieYzl3ikaNiUJWgCx8Gfjp4O1/9lzQ/jhD4k8WeJdMGhrJdX914VefW7mWJjDMJrDTLbJullR1kit4NodX2KFArmP%2BCdPiGw8W/s3X3inSre%2BittR%2BLfxDubeLU9LnsrlEfxnrTAS29wiTQOAeY5EV1OQyggivWfhv8OPBHwh8B6T8Mvhv4eh0nQtEsktNM0%2BAsVhiUcZZiWdiclnYlmYlmJJJPmn7B/8AyRDXP%2ByzfEf/ANTXW6APZqKKKACiiigAooooAKKKKACiob%2B/sNKsZtT1S9htra3jMk9xcSBEjQDJZmPAAHJJr4%2B/aL/4La/smfCfXh8M/gemp/GHxxczfZ9O8O%2BAojcQy3B%2B7GbpVZGyRj9wJmHda48ZmGCy%2Bnz4moorpfd%2Bi1bfkkzCriaNGpGnJ3nLSMUnKcn2jCKlKT9Iuyu20k2vsckAZJwB1NfFf7bX/BcP9lb9lme68C/De/g%2BInjOHcj6fo1%2Bq6fYuM5%2B03gDLkEHMcQkfI2sEJzXP2f7Jv8AwUQ/4KIRf2x%2B3h8W5fhN8O7sZj%2BEXw6uAl7eQndhb%2B7O8cjYTGTIp5/dwMK%2BjP2fv%2BCeH7Fv7MCwz/Bv9nnw9YX8GNmtXtsb2/B7kXNwXlXJ5wrAegGBXlVcRneZQtg4qjB/bqK8mu8aa28nN3/unTl2Y1MLifaVcBGpbaNapKMb/wB%2BFD95Jf3PbUr7Sktj86YPjB8e/wBvi9j1/wCO/wAKfjH8YNLllEum/DX4baBP4Z8ELzlFu9Tuis90eh%2BdBtIO1yvFfUfw1%2BCX/BUfxD4RtvAXgCy%2BEP7L/gyIYt9G8I6Ouu6vAD97eTttGYjrIvzE5JJODX23RU4Xh1UpOdavOUnu1aLfrJXnbyUoryOrPs84q4qoww2Z46UcNB3hh8PGOFw8P8NOldt95znOo/tVGfJ2hf8ABIL4C%2BI9Yt/Fv7VnxQ%2BIHxq1iCQSofH3iiZ7CGT/AKY2cBSNE/6ZsXXk8V9O%2BDPA/gv4c%2BHLbwf8PvCOmaFpNmu200zR7CO2t4R6LHGAq/gK1KK9fDYDBYNt0aaTe73b9ZO8n82eJg8ry/L23h6Si3u95P1k3KT%2BcgooorsO8KKKKACiiigAooooAKKKKACiiigAooooAKKKKACiiigAooooAK8Z/Zf/AOS3/tHf9lmsf/UK8L17NXjP7L//ACW/9o7/ALLNY/8AqFeF6APZqKKKACiiigAooooAKKKKACiiigAooooAKKKKACiiigAooooAKKKKACivIv2%2BviF40%2BFH7FHxT%2BJHw81mTTNZ0XwNqN1ZavDGGfTSsDbrxQwKkwLumG4Fcx8gjIryn4deMfHPwI039pnwZ8J/E/iLxrp/w10K11bwSnirxJea9dR6pLoJu5NON3dyy3EyF0trgRvIxX%2B0CF2oY1UA%2Bs68B%2BPWif8ACTftm%2BC/Dmzd/aHwB%2BIttt9fM1HwkuP1ri/%2BCZ3j7WLmfUfhz8QbPxLL4qu/h74Y8ZXetav8W77xVb6pZ6mL5IbgJcBIdKuGltLhpLSzjFqAYvJeRUxH1d/408SeIf8Agpt4L8O6t8I/EOhWek/B7xwlhr2q3OnPaa0G1bwll7Zba7lnQJtGftEUB%2BcbQ3zYUoqUXF9TSjVlQrRqR3i016ppr8UjK/4I1a3/AMJB/wAEzfhRfb93l6Rd22f%2BuN/cw4/8cr6cr5L/AOCJ/wDxL/2DdN8G9P8AhHPGHiHTdn9zbqlw%2BP8AyJX1pXmZHJyybDN/yR/BW/Q%2B48UqUaPiVnMY7fWq7XpKo5r8JoKKKK9Q%2BDCiiigAooooAKKKKACiiigAooooAKKKKACiiigAooooAKKKKACiiigAooooAKKKKACiiigAooooAKKKKACiiigArxnxx/ykL%2BF//ZGfHn/p28IV7NXjPjj/AJSF/C//ALIz48/9O3hCgD2aiiigAooooAKKKKACvGf2D/8AkiGuf9lm%2BI//AKmut17NXjP7B/8AyRDXP%2ByzfEf/ANTXW6APZqKKKACiiigAoorE%2BJHxJ8BfCDwPqXxK%2BJ3iyy0PQdItjPqOqahMEihQep7kkgBRksSAASQKmUowi5Sdkt2TOcKcHKbslq29El3bNuvkb9on/gpdc3fizVfgV%2Bwx4f0jxv4s0aNn8WeM9YvfI8J%2BDIVzvmv70EK7KA37qNs/KwyWUxn5%2B/a4/bs8aftQ%2BFoL691XxN8Nfgbrdx9j8P6dotsf%2BE1%2BLEhIUW%2BnW/3rWyckAzMMMGAJcuYl739nL/gmZ4z%2BNXhfR4f2rPB9j8PPhXpcy3Xhn9nfwheMIHcYK3OuXinzL65OAWBY8gZK5eM/KYnOMXmNZ4bLk7dZbaPqm01CL6Sacpf8u4W989fI%2BGMZxFgFm2OxH1DKm2lXceaviXH4oYKi7OfaVefLRg3fmbtF/Ow/Z9/a1/4KweN20JP2lfEXjPwXY32zX/iLf6e2leEoJEf5oNH0qMq2oyoRt%2B0TFVIyHUZR2/RH9jH/AIJ0fsv/ALDPh8Wnwf8ABaz65NAI9S8XauFn1K76ZXzMARRnA/dxhU4GQTzXtPh7w7oHhHQrTwv4V0O00zTbC3WCx0%2Bwtlhgt4lGFREQBUUDgADAq5XdlvD%2BEwNX6zV/eVnvJ3dvKPM20vNvmfdbHoY7Octw2HlgOH8KsJhWrSfN7TEV/wC9icTJe0qttX9lF08PDRQouymyiiivfPmgooooAKKKKACiiigAooooAKKKKACiiigAooooAKKKKACiiigAooooAKKKKACiiigArxn9l/8A5Lf%2B0d/2Wax/9QrwvXs1eM/sv/8AJb/2jv8Ass1j/wCoV4XoA9mooooAKKKKACiiigAooooAKKKKACiiigAooooAKKKKACiiigAooooAivbKz1Kzl07UbSK4t7iJo54Jow6SIwwysp4IIJBB4INcp8Of2efgD8HtPsNJ%2BEfwO8H%2BFrXS5bmTTLbw54ZtbGO0e4Ci4aJYY1EZlCJvK4L7F3ZwK7CigDlvhf8AA34KfBC21Cy%2BC/wf8LeEIdWvDd6rF4X8P22nreXBGDNKIEUSPj%2BJsn3rgvHH/KQv4X/9kZ8ef%2BnbwhXs1eM%2BOP8AlIX8L/8AsjPjz/07eEKAPMf%2BCRH/ABLvh58ZvBvT/hHf2jvFmnBP7oWWF/8A2pX1pXyX/wAE0/8AiTfG79qTwZ08j48XmpbPT7ZbRPn8dlfWleTkemV049uZfdOov8j9A8Uve48xdX/n4qNT/wAGYbCz/NyCiiivWPz8KKKKACiiigAooooAKKKKACiiigAooooAKKKKACiiigAooooAKKKKACiiigAooooAKKKKACiiigAooooAKKKKACvGfHH/ACkL%2BF//AGRnx5/6dvCFezV4z44/5SF/C/8A7Iz48/8ATt4QoA9mooooAK4748fGzw1%2Bz98OpfiJ4m0jU9U3alY6Zpmi6JDHJe6pqF7dRWlpaQLLJHH5kk80a7pHSNAS7uiKzDsa8v8A2t/g34z%2BM/wwsLH4a3mmReJvDXjDRfEugR63PJFZXVxp9/Dcm1nkijkeJJo0kh81Y5DEZBIEk2bGAM2H9tj4ZL%2Bzvqv7QureE/Eunromvt4f1XwfdWdu2sQa3/aCadHpmyKd4GmlupYY43WYwOJ45BL5bb6par%2B3l8LfC/wG8a/HDxz4K8U6HdfD/Vzo3iXwLeW9nNrcWrNDbT22nxrbXMttLNcRXtlJEUuDGVuo2d0Acpzng79mD4rr8CfiL4H%2BLnwz8BeJ9T%2BI2uah4m1XRR4zv7fT01Ge4TyLFLpNP8%2BKOC3t7QrqCRib7QjSLbxYXHmuhf8ABJzxNf8Aww8RXd98btf8DeNNf8Z6v4qjs/CfiRNfsbe%2ButBttDijuL7xDp91c37LaWpLXbRxT7r25CbVKKAD7A%2BGXj7R/it8NvD3xR8O21zDp/iTQ7TVbGG9RVmjhuIUmRZArMocK4BAYjOcE9a81/YP/wCSIa5/2Wb4j/8Aqa63Wt8Df2fdT8Efsi%2BEf2a/ih471jWLzR/Btjo%2Bsa5petSabdSyQwojGC505bSSJVK7UeMROUVd2WLE83/wTp8PWHhL9m6%2B8LaVcX0ttp3xb%2BIdtby6nqk97cuieM9aUGW4uHeadyBzJI7OxyWYkk0Ae6UUUUAFFFee/tL/ALUfwV/ZI%2BGk/wAU/jd4uj02xRvKsbSMeZd6lcEfLb20I%2BaWVvQcAfMxVQWGdWrSoU3UqSUYrVt6JGVevRw1GVWrJRjFXbbskvNlz9ob9of4TfstfCjU/jP8aPFEel6JpkfzMfmluZTnZbwp1klcjCqPcnABI/NX49fF742ftb/GDw9/wt74US694j1Fxe/B/wDZi84m20%2BIj93r/ipwQEQKwdbZiuQdp2Kzl4fiJ46/ab/a/wD2m9EvNW8DxXPxVuY/tfww%2BFmpDzdK%2BFWlvtI8Q64pUq%2BospR4oHUlCUZkyYYT%2BgP7HX7FXw5/ZD8L3r6bqN34k8Z%2BIpftXjfx9rbeZqOuXZOWd3YkpEGJ2RAkKOSWYsx%2BQqVMXxJiHSp3hQi9W1u/NPeXVQfuw0lUTly04/U5Rw7l2GwFHiDiuk5Uai58JgZXjLEpP3cTi7WlTwl1elR92pibX92leZyv7In7AVl8HPFcv7Rf7RHjD/hYfxj1W3CX3iu8hAttHiwR9i0yDAW2gUEqCqqzAnhFYoPo%2BiivqsLhMPgqPs6Kst%2B7b6tt6tvq3r%2BCXJnuf5txLmDxmYVOadlFJJRhCEdI06cIpQp04LSMIRUUu7blIooorpPGCiiigAooooAKKKKACiiigAooooAKKKKACiiigAooooAKKKKACiiigAooooAKKKKACiiigArxn9l//kt/7R3/AGWax/8AUK8L17NXjP7L/wDyW/8AaO/7LNY/%2BoV4XoA9mooooAKKKKACiiigAooooAKKKKACiiigAooooAKKKKACiiigAooooAKKKKACvGfHH/KQv4X/APZGfHn/AKdvCFezV8iftefGr/hTf/BVr9lOzvphFp3jTwl8QfDV5Ix4Ek8vhue3H1a4tokH%2B%2BayrVoUKfPPbT8Wl%2BbRjiK9PDUvaT2ul97UV%2BMkT/sVH%2Bxv%2BCjf7XPhA/KF1nwjqUY/vfadJkZiPxUZr60r5L%2BBX/Ei/wCCwXx30r7v9u/DnwvqWP73kK9vn9cV9aV52TaYWce1Sqv/ACpJ/qfo3iT7%2Be4av/z8weBl/wCWlKD/ABpsKKKK9Y/PwooooAKKKKACiiigAooooAKKKKACiiigAooooAKKKKACiiigAooooAKKKKACiiigAooooAKKKKACiiigAooooAK8Z8cf8pC/hf8A9kZ8ef8Ap28IV7NXjPjj/lIX8L/%2ByM%2BPP/Tt4QoA9mooooAKKKKACiiigArxn9g//kiGuf8AZZviP/6mut17NXjP7B//ACRDXP8Ass3xH/8AU11ugD2aiivBv25/2yn/AGZfDWleA/hf4aHiv4r%2BOrg6f8PPBkJy1zcHhrqfBGy1hHzuxKg4xuUbnTDE4mjhKEqtV2iv6SS3bbsklq27HNjMXh8DhpV6ztFfNvoklu23ZJLVtpIl/bN/bg8K/ssWWmeBvC/hm58afE/xYxg8D/DzR2zdahKcgTSkZ8i2UglpW4wrYztYr8efFPwL8YvAnxa8Pal8Sdb0/wCKn7YPxBhI8E6KI9/h74WacSfMv44G3KohwcTOC0kiZUOVcy%2BrzeDfC/8AwS6%2BC2s/tWfGnVJfih%2B0P4/li06LUbhTJcaxq9xgQaTYRgAw2aMBkIFLJFnAxFEvrf7Bn7H%2Bu/AjSNW%2BN3x51pfEXxl%2BITJe%2BPPEUmGFtkAppttjiO2hAVAF4YoD91Y1T5evSxmbYtUqnuvSVt1Si9m%2Bkq0teXeNNXkk2lJ/W8I8PYXD4BcY8U0lOlCbjg8JLWNatCz56yXxUqF4yqv4XNww9P3pVqkel/Y1/Y48Bfse/D2fQ9H1C413xTr1x9v8ceNtVJe%2B1/UGyXmldiWCBmbZHkhQScszOzewUUV9Th8PRwtGNKlG0Vsv669W3q3dt3Z5mb5tmWe5lVx%2BPqupWqO8pPr0SSVkkklGMYpRjFRjGKjFJFFFFbHnBRRRQAUUUUAFFFFABRRRQAUUUUAFFFFABRRRQAUUUUAFFFFABRRRQAUUUUAFFFFABRRRQAUUUUAFeM/sv/8AJb/2jv8Ass1j/wCoV4Xr2avGf2X/APkt/wC0d/2Wax/9QrwvQB7NRRRQAUUUUAFFFFABRRRQAUUUUAFFFFABRRRQAUUUUAFFFFABRRRQB5h%2B2n8XvFXwD/ZM%2BIfxj8DR2p1vw/4UvLrR3voi9vDdCMiKWVQQWiRyruuRlVYZGcjz74U/HrxH8A7r45eGv2mPjZqHi3QPg9pll4im8c6zpNlb3q6ZNpj3VxDPHp1vBA7wvbTupjhVjHNErB2Uu/vvjTwb4V%2BIvg7Vvh9460C11XRNd02fT9Y0u9iDw3lrNG0csMinhkdGZSO4JrkPg5%2By38G/gLvf4aafr0E1xey3l/d6r401XU7jUZ3ght/Mu5r25lkuykNvBFF5zP5KRhY9gyCAeD/8EuP21db/AGt/FHxjtfFf7QPgzxfcaN4t0660PQ/B%2Bs6bexeHNLvdHsrlLHzrIt9q8md7iF7l2cSTwzhCqKsaeJf8FjdRh%2BKvxf0HV/hrpPiKLxd8DPhz4o8aafdap4Q1KxtPtFjrnhGR5La6uII4L1Vt/tJLWzyBfl3Ebhn9CfC3wx8D%2BCvFfibxv4Z0P7NqnjHUoL/xJdfaZX%2B2XENpDZxvtdiseILeFMIFB2biCxJPk/xk8MaL42/bh8A%2BDPElmLjTtX%2BBPxCsr%2B3bpLDLqfhGN1P1ViPxrlx2GWMwVShtzRa9H0fyaT%2BRxZlhFj8vq4a9ueLSfZ20fykov5HjXj34k6T8Mv28fgp%2B3TpNwH8BfHrwNbeC9SupMbbC7nxf6XKW9Zi3ldcAIxPavtuvz2/Zk%2BCWp/tV/wDBK7xz%2Bwj4qvyPGnwn8T6t4W02/d/Lkt9R065NzptwrdUTDRRbh1RXAPWvqL/gn9%2B0pP8AtWfsp%2BGPijrkZh8RRQNpfjCykTZJa6vanybpGT%2BAs6%2BYF6hZVrxsmxLdXlloq0faLylpGrH5SXN6Nn6HXxX%2BuHhtlmfpfvsKo4Suu0bTnhpv/wAuMO3/ADUodXr7PRRRX0Z8SFFFFABRRRQAUUUUAFFFFABRRRQAUUUUAFFFFABRRRQAUUUUAFFFFABRRRQAUUUUAFFFFABRRRQAUUUUAFFFFABXjPjj/lIX8L/%2ByM%2BPP/Tt4Qr2avGfHH/KQv4X/wDZGfHn/p28IUAezUUUUAFFFfP3/BS46YP2a7X/AITTy/8AhCv%2BFheF/wDhZH2j/j3/AOEe/tm0%2B2/as8fY/L/4%2Bd37v7N5/mfu99AH0DRXwX4ItPhf4%2B/YC%2BLXwv8Ah/8AGXwV4W8CR%2BO9S1bwE2ra1Ha6IfCMOsRSPE7I37nQ7qeDULMTRgwi1mPlBowinzDQ/iv%2Byr8N/wBlXxx4g/aZ%2BD3wO1jwh4j%2BOsth%2Bzd4JOpWsngppJNB05Jnsby%2BghgTT476PVppb4QRqCLpoEcyQpIAfqHXjP7B/wDyRDXP%2ByzfEf8A9TXW6vfs6aL4n%2BH37FfgTwx8LvH2ifFLVdE8AaXZaX4nv/Ejw2HiSSG1ij%2B1m9iju3Ecu0uJAk7EEZLElqw/%2BCdNx4lu/wBm6%2BuvGWk2Nhq8nxb%2BIbanY6ZqL3dtbznxnrXmRxTvDC0yBsgO0UZYAEoucAA9L%2BOHxa8NfAb4O%2BJ/jR4wk26b4X0O51K7XcAZFijZxGv%2B05AVR3LAV82/8E%2B/gzfW3ha//wCClf7XOtwXHxF8feHxqk95fDy7Twh4fKedDY2wcnyUWHEkjHDEnDZIdnZ/wVJurn44eI/hP/wT30K4cv8AFXxgl74wWFjmLw5phW6utxH3C7rGEJ4JjZear/t869rH7TXxa8L/APBLf4O6g9la63bR6x8XtU035f7H8Mwuu20Urwkty4WMDsu3KlJDj5vHYmLxsqjXMqPLGEf5q09V/wCAxa1%2BynJ7o24S4cXG3Gv1atPkwuFjz1ajV404xj7SrVa2cqdLlhTXWrWhFe9K6q/si%2BH9c/b6/aOl/wCCi/xQ0m4h8D%2BHGuNL%2BAfhy/iK/uNxS41ySM9JZipWPPKqO%2ByNz9oVQ8LeF/D3gnwzp3g3wlpEGn6VpNjFZ6bY2ybY7eCNAkcajsqqAB9Kv16%2BAwf1OhaT5pyfNKX80nu/RbRXSKS73%2Bh4t4iXEeaKpRp%2Byw1KKpUKV7qlRhfljfrOV3Uqz3nVnOT%2ByolFFFdp8wFFFFABRRRQAUUUUAFFFFABRRRQAUUUUAFFFFABRRRQAUUUUAFFFFABRRRQAUUUUAFFFFABRRRQAUUUUAFeM/sv/wDJb/2jv%2ByzWP8A6hXhevZq8Z/Zf/5Lf%2B0d/wBlmsf/AFCvC9AHs1FFFABRRRQAUUUUAFFFFABRRRQAUUUUAFFFFABRRRQAUUUUAFFFFABRRRQAV4z44/5SF/C//sjPjz/07eEK9mrxnxx/ykL%2BF/8A2Rnx5/6dvCFAHi58TWn7Dv8AwVA8Raj4%2Bgk074f/ALRlrpg0fXjj7HZ%2BKLONoTayn/li1xGd4Y8O7KBnaxSnrviWf/gmJ%2B2b4n8feMtLeL4GfHLXLe8u9etyTB4R8TsmyWS5XHyQXZAYy9AwGcBDn6g/aS/Z2%2BGX7VXwa1r4H/FvR/tekazb7fMjwJrOYcxXMLEHZLG2GU9OMEFSQfmL9nn42W9pJq3/AASy/wCClstjqHiMWp0/wvr2uoUs/iForfLDKkjcfbFAVXXd5m9QVLSKxHy2Kw88JXVNSUU5udKb2jOV%2BanP%2B7O75dt2l70Y36uDeJcNwVm1fAZpTdXLccnCaTUZJymqloyfuxq06i9th5S92UvaUZ6VD7Ut7iC7gS6tZ0lilQPHJGwZXUjIII6gjvT6%2BGfCHxH%2BLv8AwSQvz8KPjxYa34x/Z6%2B1qngz4k2sbXd74Ogc4Ww1ONAXa3QkKkyjgYUA7lij%2B0/BnjTwh8RfC1j448BeJrHWdH1O3WfT9U0y6WaC4jPRkdSQw%2Ble1gsfDF3hJclWPxQe681/NF9JLR%2BTul9HxPwliuH%2BTFUZqvgqzfscRBe5Nb8slq6VaKaVSjO04NO3PBxqS06KKK7z5IKKKKACiiigAooooAKKKKACiiigAooooAKKKKACiiigAooooAKKKKACiiigAooooAKKKKACiiigAooooAK8Z8cf8pC/hf8A9kZ8ef8Ap28IV7NXjPjj/lIX8L/%2ByM%2BPP/Tt4QoA9mooooAKKKKACiiigArxn9g//kiGuf8AZZviP/6mut17NXyl4O%2BMsf7PX/BOz4t/Gr7Qsc3h3x38U7uxLHhroeMNcW3T/gUxjX8azrVYUKMqk9opt%2BiTb/Iyr1qeGoTrVHaMU2/RJt/gjz34W/GPwxq/7Q/7SP8AwVB8duJvCfwv0mXwL4FYtgTxWA8%2B/MRPBM920aRuOvmFcnmvVP8Agl78DfE/hL4N3n7TPxlJufiZ8aLlPE/i68kj2tbQyrusrBAeUiggZQEP3Wdl6KAPmW1%2BDk2o/s7/ALLH/BKyzhYSeNYIPHHxdiH300mFzqE8M56/vrqTyVbn5rdR0xX6ZxxxwxrDDGqIigKqjAAHQAV8zktGeIxHtav2Fd/9favvz/8AAIOFNdtfM%2B0y2lV4V8KsLQl7uKzaTxNbusPGbVKD68tStz1Lfajh6d7pIdRRRX1R8gFFFFABRRRQAUUUUAFFFFABRRRQAUUUUAFFFFABRRRQAUUUUAFFFFABRRRQAUUUUAFFFFABRRRQAUUUUAFFFFABXjP7L/8AyW/9o7/ss1j/AOoV4Xr2avGf2X/%2BS3/tHf8AZZrH/wBQrwvQB7NRRRQAUUUUAFFFFABRRRQAUUUUAFFFFABRRRQAUUUUAFFFFABRRRQAUVx37Qfxm0L9nf4HeLPjn4k0y6vrPwpoFzqUmn2O3z7xooyyW8W4hfMkYLGu4gbnGSBk1yXwR/aI%2BJ3xGbx74B8f/BrS9B%2BIXgNrc3HhzSvFzajp9/HdWYubOSG%2BktLdgrsJYH326mOSCTAdNjuAevV4z44/5SF/C/8A7Iz48/8ATt4Qq5%2Bzv%2B0L4/8Aid8RPG/wa%2BLvwu0fw14p8DJpc%2BoL4Z8WSa3p00F/FLJCFuZbOzkWdfIcyQtCNqvC4ZllGKfjj/lIX8L/APsjPjz/ANO3hCgD2avP/wBpH9l/4IftZ/Dqb4Y/HTwPb6xp7MZLSc/Jc2E%2BMCe3mX5oZB6qeRwwKkg%2BgUVnVpUq9N06kVKL0aeqZlWoUcTSlSqxUoyVmmrprzTPiU61%2B3N/wT90y58FfFXwNqf7RnwWSNoYdf06NJvFOkWJGGhvLV/l1KNVyN6nJXczsowg474K/D/w3qh1D48/8ET/ANqTQ7aC5nN54l%2BBXip3OkSSnG8Lbti40uUkYyoCMQoV1jGK/QuvA/2i/wDgmr%2Byr%2B0d4j/4WPqfhO88KeN43Mlr4%2B8CX7aVq8MuMeaZYvllftmVXOOARXz%2BKyevFL2MudR%2BFSk4zh/gqq7t/dmpxezdjq4dz7izgiVSGUVY18NUsqmGxCVSlOK2T5rp215HJKcPsVoHL/CL/gqX8LrjxbD8Fv2v/Bmo/BD4hk7P7G8ZsF02/YEDfZ6iAIJoySACSuScLuxmvqKCeG5hS5tplkjkUNHIjAqykZBBHUV8NfFT9m3/AIKK%2BB/B8/w%2B8W6d8Pf2r/h4OV8PeP7SPSvEUagfKIrohoHkUZ/fufMJwRjt86%2BGvjRb/sma8nh/4H/HT4ifs36gZT5Xwh/aG8PXWp%2BErh%2Bpjs9QjDvbQ9/NBBbn5gMVzRzvGZe%2BTGQbXdpQl993Sn6xnBv%2BU%2BmWa%2BGfEcrSqTyXFP8A5d4lTqYOT/6d4mCnOkm9lWVSK/5%2BWR%2BuNFfE3w9/4K9X3hDQ4tT/AGvv2fr/AEbRshT8T/hnep4n8KzD/nq09mXktgeojYO/BzivqT4L/tHfAb9orQh4j%2BBvxd0DxRahA0p0jUklkgz2ljB3xH/ZdVPtXu4TNcvxr5aVRc38r0l/4C7P5rmXmTnHBXEuSYRY2vQ58NL4a9KUa1CXpWoyqU9e0pQl3ijtaKKK9A%2BWCiiigAooooAKKKKACiiigAooooAKKKKACiiigAooooAKKKKACiiigAooooAKKKKACiiigArxnxx/ykL%2BF/8A2Rnx5/6dvCFezV4z44/5SF/C/wD7Iz48/wDTt4QoA9mooooAKKK8/wD2l/jjc/AH4axeLNF8Ir4g1rVfEOl6D4b0OTUfscd7qOoXsVpAss/lyGCFWl8yWQRyMsUblUkYKjAHoFFfPtz%2B3RdaF%2By94p%2BN3i34Ux2nifwd4xPhHW/CVv4iElpHrD6lBYQY1B4ExZSG6tbg3LQK0cEpZ4gyNHWFZf8ABQHx74gvm%2BDvg/4IeG9S%2BLlr8Sbzwdq3hdPiHIuiWc9tosOtS3R1Uac0zQi0urRMfYhILm48plVUeVQD6fr84P2h5ZPiJ%2Byd4Q/ZCsZCZPi/%2B134x0rVIVOD/ZNt461q7vJPcJ5UJPsa%2B7P2d/jRo/7RPwP8L/G3Q9HudNg8SaRFdvpd6ytNYTEYltpCuVZ4pA8bFSVJQkEgg1%2BZNp8Sv7Q%2BPfxF8cx3GbH9nLwz8Y9ct5M8ReINV8Ya7BBF7FrcRkH1/OvFz%2BrGGWuEtptRfp8Uv/JIS%2B84Mdga%2BcSw%2BUUNZ4utRoR/7i1IRf8A5LzX8mz6m/4JwQL%2B0X8d/i5/wUJvoQ%2BneItY/wCEP%2BGbFflj8Paa%2BxpYvRLi4UuR2eJq%2Bw68R/4Js/DT/hUf7BXwm8EPb%2BVLH4Ks7y6ixgpPdJ9qlU%2B4kmcH3r26ujJ6MqWXU3P4pLnl/in7z/Oy8kkfoviLmFDH8Z4yOG/gUJfV6K7UcP8AuKa%2Bcabm%2B8qkn1CiiivSPiQooooAKKKKACiiigAooooAKKKKACiiigAooooAKKKKACiiigAooooAKKKKACiiigAooooAKKKKACiiigAooooAK8Z/Zf8A%2BS3/ALR3/ZZrH/1CvC9ezV4z%2By//AMlv/aO/7LNY/wDqFeF6APZqKKKACiiigAooooAKKKKACiiigAooooAKKKKACiiigAooooAKKKKAOO/aE%2BDOh/tE/A3xZ8DPEmqXVhZ%2BK9AudNk1Cx2%2BfZtLGVS4j3Ar5kbFZF3AjcgyCMiuB%2BE/7N/x8%2BH2p%2BNPiJ4h%2BP3hjV/HHjmILqWt2/w8ntbK1NtYpbaalvaHU5GWKGTz55leaRp3uHCvbqFA9vooA8V/Yj/Zo%2BKf7L3gDUvBvxT%2BLvhzxvf6nqJ1PUfE%2BleCbnSdQ1fUZQftV9qDzaleC5lkxEqiMQxwxxLFGgiSNI8K/wDhH8KPA3/BTbwX498E/DHw9o%2Bu%2BJ/g944l8S61pWiwW93qzx6t4S8trmaNA85Xe%2BC5YjccdTX0PXjPjj/lIX8L/wDsjPjz/wBO3hCgD2aiiigAooooAKoeJfC3hjxpos/hvxj4csNW065Xbc2Gp2aTwyj0ZHBVh9RV%2Bik0pKz2FKMZKzV0fLnj7/gj1%2BxR4l1qXxh8M/C%2Bu/C7xBKCBrnwu8Qz6RKnssSFoFHsIxXzF8Yf%2BCC3x0tNcbxv8Bv2nNA1DWINz6be%2BItAk0XUbeQ/8tG1HSWV7iU/35Y25r9QKK8TF8N5LjF71JR6%2B7eOvfTS/ny3FlDxXDmLeKyXEVcHUlvLD1J0ebylGD9nNd1OlOL6pptP8qNH8af8HCX7GjGDVfhvcfFXw9aBVhivpbfXpZQPvETWzQ3xOOnmK3PY816B4C/4OFPAfhnU4vCX7ZP7Knjv4basTslljs2uIQw6s0c6wTIP9lVkI9%2BtfovVPXfD2geKNNk0XxNodnqNnKMS2l9bJNE491cEH8q5aeSZlg/9zxs7fy1Eqi%2B/SS%2B89XFcQZ3jl/tioV5fzTw8aVR%2BtTCPD8z85UG29Xc8d%2BDH/BSH9hb4/rBH8Mv2n/Clxd3LBYNM1LURp947H%2BFbe6EcjH6Ka9tVlZQykEEZBHevAPid/wAErP8Agnh8XSz%2BL/2S/CUUjsWebQbRtJkZvUtYtCSfqTmvJZf%2BCJngL4eW91J%2ByX%2B2H8Z/hVNPIGjstF8XPNpyc5Aa3xG8gH%2B1KfxrrVfP6C/eUYVPOE3F/wDgM01/5MeDUr49z93Dx%2BVV23/v009tdW%2Bx9tUV8Haz%2Bzf/AMFzvg7hvhF%2B3T4K%2BJGn26/JY%2BNfC8Njcy46DckMhY/71wPrXJaz%2B3z/AMFvPgWT/wALr/4Ju6R4ntYT8134HW4nMiD%2BMm1nu9vryi47gVnPP4Yf/ecPVh58nMvvg5fkdmGwucYv%2BFg5zfaEqNR/%2BAxrQn8uRvyP0eor8zNF/wCDkLwzouqnQfjd%2Bxf4r8L3sQ/0i3i1%2BGSRe2Ql1FbH8K9Y%2BH//AAXz/Yj8dWQ1G48LfEvR7f8A5aXF94LaeNPXLWckwxRR4p4fru0cRFPs7p/jEeZUsdksOfM8LXw0e9bD4ilH/wACnQUP/Kh9t0V8y%2BFP%2BCx3/BNPxg4i079qvRrVycMmsade2BU%2BhNzAgH516Z4V/bW/Y68cbV8IftV/DnUXfpDaeNLF5B7FBLuB9iK9GlmeW1/4deD9JR/%2BSPMo5xlGJ/hYinL0nD/5I9Ooqno3iLw/4jtvtnh7XbO/h/562V0kq/mpIq5Xammro9BNSV0FFFFMYUUUUAFFFFABRRRQAUUUUAFFFFABRRRQAUUUUAFeM%2BOP%2BUhfwv8A%2ByM%2BPP8A07eEK9mrxnxx/wApC/hf/wBkZ8ef%2BnbwhQB7NRRRQAV59%2B0v8Drr4/fDWLwnovi9fD%2BtaV4h0vXvDeuSad9sjs9R0%2B9iu4Glt/MjM8LNF5UsYkjZopHCvGxV19BooA8N%2BH/7K3xG8EfCPxj4B1T4meD/ABDqnjq61LVfEV9r3w7kn0%2B71W9mYyGSxOo4ewW2ENstoZfM2Q7nuXZia4TwP/wTT1H4Q%2BHNK8R/BL4m%2BEfC3xD0/wAe3niiXVdO%2BGYi8OO1zpMekSWEWiwX0TQWq2dvabFW73ia1WV3k3yI/wBW0UAec/Cn9mL4a/Dv9mbRP2WvE2lWvjDw9pugx6dqsfibTobiPWW%2B9NNcQMpiYyylpWTbtBbAAAFfldovwO074afsT/tKaD4I8OWegyfGj9sfU/h74SsdKs0ggg02z8UXUcMMEaAKiDZdxhFG0KuAPT9l6/OGKKP4h/HT9nX4CQRq0C/tNfFvxnqUajiI6X4p1uS3kYf7UsrAH1rw%2BIKEa2As97qK9alqf/pMpH2/hphKVTxAy/MKiusE6uK8v9nw9aqr/wDb0YffbqfotpOl2OiaXbaLpdusNtZ26QW8S9EjRQqqPoABViiivcSSVkfEylKcnKTu2FFFFAgooooAKKKKACiiigAooooAKKKKACiiigAooooAKKKKACiiigAooooAKKKKACiiigAooooAKKKKACiiigAooooAK8Z/Zf8A%2BS3/ALR3/ZZrH/1CvC9ezV4z%2By//AMlv/aO/7LNY/wDqFeF6APZqKKKACiiigAooooAKKKKACiiigAooooAKKKKACiiigAooooAKKKKACiiigArxnxx/ykL%2BF/8A2Rnx5/6dvCFezV4z44/5SF/C/wD7Iz48/wDTt4QoA9mooooAKKKKACiiigAooooAKKKKACiiigAooooAzPFXgrwb470w6L438JaZrNm33rTVbCO4iP8AwGRSP0rwv4i/8Env%2BCdfxQdp/EH7KHhizmY7hN4cik0llb%2B8PsTxDOea%2Bh6K5sRgsHi1avTjP1in%2Ba/U9vKOJuJOH5c2V42tQf8A07q1IfhGaT%2BcWfF3iz/giV8FLyLb8Of2j/i34bRBiHTJPFKanpyjsGtryJ94HoWrzPxV/wAES/jHYhn8MfFr4NeLo/4LTxp8BdNsJD7Pd6btmc/7R5r9HaK8qrw1ktX/AJdcvo2vwvJfge5W8QeIMfpmcMPjO/1nCYSu3/2/LDxqfP2l/M/KDWf%2BCTvxz8KXP2/XP%2BCbfwX8WXEf3Lr4Y/FvXtAmYewvZ/LVv%2BA4zVP/AIUX4u%2BG/wDyMv7HH7angLy/vH4SfF6PXxF/ubfvYr9a6K43wlgoO9Kbj6xg/wAlB/iec8fwDinfG8L4Jt7uh9Zwsv8AyjiJRX/gB%2BSq/HT4XeAzt8Q/8FLP2wvhoVOMfFbwdNf%2BWf8Ab2wPmu28G/tGeI9d2N8N/wDg4n8JtGfuWvjf4WaVa7vTdLdNE4/Kv0zZVZSrAEEYIPeuK8Zfs1fs5/EXf/wsD4BeCtd8z7/9seFrS53fXzIzS/sDG0/4dVP51of%2BkVpL8Bf2d4OYn4svx2Gf/TnH86XpGvTT%2B%2BZ8q%2BENd/4KU%2BIwv/Cq/wDgo1%2Bzn473f6rzdFA8z/wClb9K6v7f/wAFxdD/AOPnQv2ZNdjHT7Hda7bSt9fM%2BUfhXV%2BL/wDgkr/wTh8b7v7a/ZH8LQb%2Bv9jpNp/5fZZI8fhXK/8ADl/9kDRP%2BSW%2BIviZ4Gx/q/8AhE/iTfw%2BX9POeSj%2Bz85p7OT/AMNeS/CpSl%2BYf6peFtf%2BBnWY0PKpRhVS9XSrXfyiJ/wu7/gsTov/ACE/2HvhlreOv9jfEo2276faEOPxo/4bF/4KdaTx4h/4JGzTIOs%2BkfGzSJs/SMxhqX/h2T8WPDXPwx/4KffH%2Bxx/q08SeI4NYRPbbLEuR7Un/DJ3/BUnwv8AN4Q/4Km2esRL/q7PxR8HtO/WaF95/Kjlzinuq/ylQn%2BcYsP%2BIecP1f8AdOLoryrUK9P88NWX3y%2BYf8PDP2s9M/5Gj/glD8VIcfe/srWLG%2B/LYRmj/h6Z4t03/kZf%2BCZH7TUOPvHTfh3HeAfitwKU%2BHf%2BC2/hb/kF/EX9nXxTGvX%2B2tI1ixlce32clQfrxR/wuj/gsZ4Z/wCQ5%2BxX8LfE%2B3r/AMI38Rnst/0%2B1ocfjR9Zx8PiqVl60IS/9Jkw/wCIW57P/dOIsFV/7j0Iv7qtKhb5sT/h758MLP8A5GL9kD9orR8fe/tP4TTLt%2Bu2VqP%2BH0X7Htrx4g8P/EzSf739o/DbUFx9dqNS/wDDcn/BQDQOPHv/AASS8UQhfvP4d%2BJel6pn3ARVP4Uf8PS/FWifL48/4Jp/tJWGPvy6Z4ATUIk9y8c4498Uf2lXj8WKt/iw81%2BSD/iEnifL/d69Ct/gqYKf/pGOiA/4Lh/8E1Lchdb%2BOmpaY3Tbf%2BBdYUg/8BtDWlYf8FpP%2BCY2o4%2Bz/tWaauf%2Be%2Bg6lF/6HbCs1v8Agsr%2ByzpwK%2BPPhv8AFrwwP%2BWg8QfDK9j2/Xyw9QQf8Fe/%2BCTXiqY2ur/GvSI584kg1rwRqMTKfQmW02/rTWbyvb69Q%2BcXH85r8iZ%2BEnjbCPNHL5zXeOFqTX30q1VHZWP/AAVo/wCCcOo4%2Bz/tdeFFz/z3mli/9DQVsWX/AAUw/wCCfd/jyP2x/h4uf%2Be3ieCP/wBDYVxdj%2B2V/wAEgPGuC/xa%2BDMm/wD6CtvZwfn58a/rWxY6j/wSQ8b4/s69/Zz1Yv2ik0Gcn8BmumGOxtT4MRh5fOX6VGeJiuDPFPA/7xgJR/xYXFx/9sa/E7Kz/b8/YVv8C1/bN%2BFTE9FPxB05T%2BRmzWpaftjfsi6hj7B%2B1P8ADifPTyfHFg38pq5Gx/ZU/wCCaPjPDaT%2Bzp8D9SL9Gs/Cejyk/ikZNT3X/BNj/gn7fjdL%2Bxv8OAD3h8KW0f8A6AgrqjPO5K8fYv0dT/gng1aPFmGly1YUk%2BzVeL%2B6UTurT9pH9ne/ANj8e/Bc2enleKbRv5SV51qvjXwb4y/4KEfDR/CHi3TNVEHwZ8deedNv45xHu1bwjt3bGOM4OM9cH0qvd/8ABKr/AIJ1XmfO/ZB8GDP/ADy04x/%2BgsK5P4cfsi/s2/ssf8FDfAz/ALPfwj0zwqdf%2BDPjT%2B2P7NMmLryNW8KeVuDs2NvnSYxj75rehLNXVSrRp8vVxlO/3ONvxKw087dZLEQpKHVxlNv5KUUt/M%2BraKKK9A9QKKKzfGHjLwh8PPC9/wCOPH/ivTdD0XS7ZrjU9Y1i%2BjtrWzhUZaSWWQhI0A6sxAFAGlRXOab8YfhHrPwyHxr0f4p%2BHLvwYdPe/Hi221y3k0z7IgJe4%2B1K5i8pQrZfdtG05PFc9dftefsnWPwug%2BOF7%2B0/8O4fBV1fGytvF8vjWwXS5rkbgYFuzL5TSDY/yBt3ytxwaAPRK/OL/gnZ/wAXR/4Kb/EDVv8AWWfwtg8d6Zs6iHUNS%2BIWt3O/2Jtxtx6V%2Biularpeu6Xba3ompW95ZXluk9neWkyyRTxOoZJEdSQyspBBBwQQRXw3/wAEW/ALWnxE/az%2BMFxblZNe/ah8W6TG7Dl4tP1e9II9t124%2BoNeZmEJVa%2BGgtvacz/7djKS/Fo%2B44PxVHL8szrFSdp/VHSh6169CnL/AMpxn977n3ZRRRXpnw4UUUUAFFFFABRRRQAUUUUAFFFFABRRRQAUUUUAFFFFABRRRQAUUUUAFFFFABRRRQAUUUUAFFFFABRRRQAUUUUAFFFFABXjP7L/APyW/wDaO/7LNY/%2BoV4Xr2avGf2X/wDkt/7R3/ZZrH/1CvC9AHs1FFFABRRRQAUUUUAFFFFABRRRQAUUUUAFFFFABRRRQAUUUUAFFFFAGb4z8Y%2BFfh34P1b4geOdftdK0TQtNn1DWNUvZQkNnawxtJLNIx4VERWYnsAa5X4SftMfBj42%2BEdY8beBvE91FZeHblrfxDF4j0K90W60txbx3P8ApNrqMME8AMEsUys6KrRyK6kqQazP21PhD4q%2BPn7JnxD%2BDvgV7Ua34g8KXlro8d9KUt5roxkxRSsASsTuFR2wcKzHBxg%2BLr8Efjt%2B0B4f/aGbxl8Gtb%2BHk3xz8GyeGtFtdX1bS7mXRVg0WS0W8vTY3kyBpri8mWNYGmIitEaQxFwgAPd/gJ%2B1F8Ev2mrC/wBQ%2BDvie9vRpgt3vLfVfDt/pVwsNxH5lvcLBfQQySW8yBmiuFUxShG2O21scz44/wCUhfwv/wCyM%2BPP/Tt4Qrnf2R/Bfxt1f45eLv2hvjF8E7r4eHU/hx4S8IWfhu/1ewvJpptKm1m5ubtXsZ5oxbM%2BrLFCGZZcQSM8ce9Vrl/jNoP7R3gf/go34D8VfCTXLfx/NrPwo8bmLwt8QPE9toem6BbrqnhPd9jn07RLi5mLMUBS5MnAysi4KuAfWFFeM/8ACcf8FC/%2BjX/gz/4fjVv/AJl6P%2BE4/wCChf8A0a/8Gf8Aw/Grf/MvQB7NRXjP/Ccf8FC/%2BjX/AIM/%2BH41b/5l6P8AhOP%2BChf/AEa/8Gf/AA/Grf8AzL0AezUV846T%2B0d%2B3brHxn1/4HW/7KHwkXVPDvhfSNdvLl/jrqnkSQajc6lbwohHhjcXVtLnLAqAA8eCxLBeo/4Tj/goX/0a/wDBn/w/Grf/ADL0AezUV4z/AMJx/wAFC/8Ao1/4M/8Ah%2BNW/wDmXo/4Tj/goX/0a/8ABn/w/Grf/MvQB7NRXjP/AAnH/BQv/o1/4M/%2BH41b/wCZeuX8A/tHft2/ETxX438IaP8AsofCSG48B%2BKItC1WS5%2BOuqBJ55NK0/Uw8W3wwSU8nUYVJYKd6OMYAZgD6Oorxn/hOP8AgoX/ANGv/Bn/AMPxq3/zL0f8Jx/wUL/6Nf8Agz/4fjVv/mXoA9morxn/AITj/goX/wBGv/Bn/wAPxq3/AMy9H/Ccf8FC/wDo1/4M/wDh%2BNW/%2BZegD2aivnH4RftHft2/GXwpd%2BL/AA5%2Byh8JLa3s/FGt6FJHe/HXVFcz6Xqt1pk7jb4YYbGmtJGQ5yUZSQpyo6j/AITj/goX/wBGv/Bn/wAPxq3/AMy9AHs1FeM/8Jx/wUL/AOjX/gz/AOH41b/5l6P%2BE4/4KF/9Gv8AwZ/8Pxq3/wAy9AHs1FeM/wDCcf8ABQv/AKNf%2BDP/AIfjVv8A5l65f4I/tHft2/Hj4MeEPjj4V/ZQ%2BElrpfjPwvp%2Bu6bbah8ddUWeGC7to7iNJAnhhlDhZAGCswyDgkc0AfR1FeM/8Jx/wUL/AOjX/gz/AOH41b/5l6P%2BE4/4KF/9Gv8AwZ/8Pxq3/wAy9AHs1FeM/wDCcf8ABQv/AKNf%2BDP/AIfjVv8A5l65f43ftHft2/Af4MeL/jj4q/ZQ%2BEl1pfgzwvqGu6lbaf8AHXVGnmgtLaS4kSMP4YVS5WMhQzKMkZIHNAH0dRXjP/Ccf8FC/wDo1/4M/wDh%2BNW/%2BZej/hOP%2BChf/Rr/AMGf/D8at/8AMvQB7NRXjP8AwnH/AAUL/wCjX/gz/wCH41b/AOZej/hOP%2BChf/Rr/wAGf/D8at/8y9AHs1FfOPxd/aO/bt%2BDXhS08X%2BI/wBlD4SXNveeKNE0KOOy%2BOuqM4n1TVbXTIHO7wwo2LNdxs5zkIrEBjhT1H/Ccf8ABQv/AKNf%2BDP/AIfjVv8A5l6APZqqatoGha9F5GuaLaXseMbLu2WQfkwNeSf8Jx/wUL/6Nf8Agz/4fjVv/mXo/wCE4/4KF/8ARr/wZ/8AD8at/wDMvSaTVmVCc6cuaLafdaP8LHWa5%2By7%2BzN4nz/wkv7OvgTUd33vt3hGymz/AN9xGuP1v/gm/wDsB%2BIMm/8A2N/huhbqbPwja2x/8hItSf8ACcf8FC/%2BjX/gz/4fjVv/AJl65fx9%2B0d%2B3b8O/FfgjwhrH7KHwkmuPHniiXQtKktvjrqhSCePStQ1MvLu8MAhPJ06ZQVDHe6DGCWXmngcDV%2BOlF%2BsYv8A9tPbwvFPFGB/3fH14f4a9aP4Kql%2BBV1r/gjn/wAE0dez9u/ZP0SPd1%2Bxaje23/omdcVhn/giP/wTxsjnwp8M/EOgn%2BE6P4%2B1ZNv033LV6d/wnH/BQv8A6Nf%2BDP8A4fjVv/mXo/4Tj/goX/0a/wDBn/w/Grf/ADL1yyyTJpO7w0P/AAGK/JI96l4o%2BJVCPLDOsVbs69SS%2B6UpL8DzH/hzx8CrH/kVP2ifjpoOPu/2R8U7lNv03q1U/gp%2Bycn7Lv8AwUL8GRwftHfFXx9FrfwZ8ZeXF8TPF/8Aaw03ydW8K/8AHqfLTyhJ5o39d3lR9Ntetf8ACcf8FC/%2BjX/gz/4fjVv/AJl6oeB/A/7VnjH9qzw58bvjd8OPh74Z0bwz8PfEOhww%2BFfiHfa1dXd1qV9olwjMlxpFikUaJpcoLB3YtKgC4yRpQyrLsNVVSlTUWuzl%2BXNb8DkzTj/jLO8DPB5hjZVac7XUo0m3Zpr3vYKa1S2qK%2Bzurp%2B60UUV6B8eFeIft/eG/EWu/BPRtW0TwpqWv2nhv4l%2BFdf8QaHo%2BnSXl1eabY61aXNwYraJWkuXhWP7SIUVpJPs%2B1Fdyqn2%2BigD4S8R%2BFfGnjD9hn40%2BH9F%2BD3jWI%2BNfiTeeKvDWgv4Qv7bUdP0afXLYyajDbSQqTfK0F3q0enOPPkZ41lhzMyHzmH4bfFS1v4fiPeXnxy07RpPjvrmsWvxs0z4USTeNbuGbwlZWKXFz4f/ALJkjijknW4sBL/ZUaiHTrd/LRpzdt%2BmdFAHiH7HPgb4teDf%2BCfnw0%2BHFjoOleA/F2k/DjSrCHTtX0ie%2BttJmito4wk1sLuOVyFX5o/tO5WJBkbGTj/8ExfBV94L/Z08Qrr2pWd9rWp/G74jXviDUNO09rS3ur0%2BMNXjkkigeWVoYz5a7Y2lkZVABdyNx%2Bh6%2BSv2SvFn7Z2n/D3xRZ/DH4B/DDV9CT40/EX%2Bz9R174u6jpt3Mv8AwmesljJbRaBcpEQ24ACZ8gA5BO0JxTab6Fxq1IQlCLspWuu9ndX9HqfWtFeM/wDCcf8ABQv/AKNf%2BDP/AIfjVv8A5l6P%2BE4/4KF/9Gv/AAZ/8Pxq3/zL0yD2aivGf%2BE4/wCChf8A0a/8Gf8Aw/Grf/MvR/wnH/BQv/o1/wCDP/h%2BNW/%2BZegD2aivnH4I/tHft2/Hj4MeEPjj4V/ZQ%2BElrpfjPwvp%2Bu6bbah8ddUWeGC7to7iNJAnhhlDhZAGCswyDgkc11H/AAnH/BQv/o1/4M/%2BH41b/wCZegD2aivGf%2BE4/wCChf8A0a/8Gf8Aw/Grf/MvR/wnH/BQv/o1/wCDP/h%2BNW/%2BZegD2aivnH43ftHft2/Af4MeL/jj4q/ZQ%2BEl1pfgzwvqGu6lbaf8ddUaeaC0tpLiRIw/hhVLlYyFDMoyRkgc11H/AAnH/BQv/o1/4M/%2BH41b/wCZegD2aivGf%2BE4/wCChf8A0a/8Gf8Aw/Grf/MvR/wnH/BQv/o1/wCDP/h%2BNW/%2BZegD2aivGf8AhOP%2BChf/AEa/8Gf/AA/Grf8AzL1y/wAXf2jv27fg14UtPF/iP9lD4SXNveeKNE0KOOy%2BOuqM4n1TVbXTIHO7wwo2LNdxs5zkIrEBjhSAfR1FeM/8Jx/wUL/6Nf8Agz/4fjVv/mXo/wCE4/4KF/8ARr/wZ/8AD8at/wDMvQB7NRXjP/Ccf8FC/wDo1/4M/wDh%2BNW/%2BZej/hOP%2BChf/Rr/AMGf/D8at/8AMvQB7NRXzj4%2B/aO/bt%2BHfivwR4Q1j9lD4STXHjzxRLoWlSW3x11QpBPHpWoamXl3eGAQnk6dMoKhjvdBjBLL1H/Ccf8ABQv/AKNf%2BDP/AIfjVv8A5l6APZqK8Z/4Tj/goX/0a/8ABn/w/Grf/MvR/wAJx/wUL/6Nf%2BDP/h%2BNW/8AmXoA9morxn/hOP8AgoX/ANGv/Bn/AMPxq3/zL1y%2BrftHft26P8Z9A%2BB1x%2Byh8JG1TxF4X1fXbO5T466p5EcGnXOm28yOT4Y3B2bVICoCkEJJkqQoYA%2BjqK8Z/wCE4/4KF/8ARr/wZ/8AD8at/wDMvR/wnH/BQv8A6Nf%2BDP8A4fjVv/mXoA9morxn/hOP%2BChf/Rr/AMGf/D8at/8AMvR/wnH/AAUL/wCjX/gz/wCH41b/AOZegD2aivnHSf2jv27dY%2BM%2Bv/A63/ZQ%2BEi6p4d8L6Rrt5cv8ddU8iSDUbnUreFEI8Mbi6tpc5YFQAHjwWJYL1H/AAnH/BQv/o1/4M/%2BH41b/wCZegD2aivGf%2BE4/wCChf8A0a/8Gf8Aw/Grf/MvR/wnH/BQv/o1/wCDP/h%2BNW/%2BZegD2aivGf8AhOP%2BChf/AEa/8Gf/AA/Grf8AzL1y/gH9o79u34ieK/G/hDR/2UPhJDceA/FEWharJc/HXVAk88mlafqYeLb4YJKeTqMKksFO9HGMAMwB9HUV4z/wnH/BQv8A6Nf%2BDP8A4fjVv/mXo/4Tj/goX/0a/wDBn/w/Grf/ADL0AezV4z%2By/wD8lv8A2jv%2ByzWP/qFeF6P%2BE4/4KF/9Gv8AwZ/8Pxq3/wAy9W/2Vvhz8afB%2BsfFDx38dNA8L6Tqnj74hRa5Z6V4T8S3OrW9raxaDo%2BmKr3FxZWbNI0mnSuVEW0LIg3Mc4APW6KKKACiiigAooooAKKKKACiiigAooooAKKKKACiiigAooooAKKKKACiiigAr5X/AGnv2tPi58MPjH4s1rwD4d8HyeGPg/4f8P3vjU61pFxNquqW%2Br38qXMFhcR3EaWXkW1nHcZkinFzIUjIh8vzT9UV4z8Z/wBiH4cfG74pH4ma5458VaXFqNrpFr4v8NaNdWqad4pg0u9kvbGK%2BWW3kmCxzTS5%2BzywGWOQxTGWMKgAPZqKKKACiiigD5j8OftK/EyH9v8A8UfB/wCI2seHvCfhtfEFpongyLUfhFrKXXjGAaBBqOIPEbXa6c0sd3c6gBaCF5PLtJgFBZpF%2BnK8r8WfstQeP/jJpHxT8e/G/wAa6vpXh7XY9a0DwBcHTItGsdQjt3gjnDQ2SXsuzzJJFSa6kjEj7tnyIF9UoAKKKKAPF/8AgoL8Xfjh%2Bz9%2ByP40%2BPXwCvfCkeseCdCu9cuoPGGi3N9bXdpa20sz26JbXVsySuyIokLlUBYlH4Fef%2BPP2tPi54L%2BPHi3U/Cnh3whF8PPCHxj8I/D7xlZzaRcHW9V1XXYNFSPUIbtLhYY44P7c0mMxSW8ryJDPiWPagr2H9rH9nGy/a0%2BBGvfs%2B618VfFPhHSfE9lLY65f%2BEF077Xc2UsTxTW26/tLqNEdX5ZEWQFRtdec8XB%2BwD4On%2BItn8RfFXxx8fa6x1nSdc8TaNqEulRWPifXNMSNLHVr2O2sImW4iEFphbZoIGNjbF4mMeSAe90UUUAFeL/ALZPxd%2BOHwStfAPjH4WXvhT%2BxtQ%2BJnhzw94vsfEGi3NzdXNrqus2Omg2csN1CltJGtzLJvkSdSURdnJNe0V5V%2B1d%2By2/7VXhvQvC8/x98b%2BBrfQvElhrqN4Lh0dnu72xvILyzaU6lp94NsVxbxuFjCBuVk3qdoAPOP2ef2lfiZrf7VXi34I/FDV/D3hPTofFOt2/gnwlJ8ItZ0y5162hdJTf2%2BtXF39g1B2Mk0ssVtAX5LsVwxP05Xkuk/soh/jJovxl%2BI/7QHjvxrN4Xu7y78J6F4hGkw2Gj3VzbyWslxEthp9tLK/2eaeFfPklVFnfaASCPWqACiiigDw/9u74ufHj9n74Nav8dfhR4x8C2On%2BFtFuby90XxZ4Zvb%2B58Q3uUWz0yzktr2D7PNcSkW6N5V0zSzxBYWPyt5/8Ef2vvjPrnxL8Ff2t4M8JaR8NPG/xP8AFHw28K%2BGtO0uaPV9Ev8AQIdW3zz3IuGt5oJG8P6miwx28RjVrY%2BZJlgPT/2lf2QYP2kvHngj4gTftA%2BO/CFz4Bu7m90Wx8MRaNPZyXsqCNbyaDU9OvEeeGPzFhkAUxieUj5myKvgP9hr4e%2BA/jLb/F2H4i%2BLtSg07XdT17RPCGpXNl/ZOla3qMbx6hqkCRWqT%2BfOJ7ssrzPCjX1yY4o/M4APa6KKKACvl/8Aa5%2BPH7S/wW%2BImn%2BFNKh8AeNdH8cw61baL8OYvB99JrCWtpod1dyX9xOL14rq2F1Fb20kItYgft8KCYyMiSfUFeHTfsTXEf7R/iv9prRP2q/iXp2r%2BLdNh0650uGDw/PaafZwwNHDbWbXOky3NvEsrvdbFm2vO5dw4O2gBn7CH7Qfjf49/D28uviv4%2B0a%2B8XacLNtf8N2Xwu1fwjeaA89ssogubLV7qe4cFt/l3ACRyKh2htpNe6V5v8AA79m7Tvgz4n8SfEPWPil4p8ceKvFcVjb6x4n8XNYLcvaWYm%2By2qRafa2ttHFG1zcuNsIZmuJCzNkY9IoAKKKKAPjn/goJ%2B3H8VP2MPHP9p65ougeMfCL6NqOt2/hWX4c6nZS26abo19qSSf8JFNdPpk939r00bLFYEuhHMsoG2FpG9e/Zo%2BLvxz1b4qeN/2ev2jrnwpqHifwjpOh61HrXgrSLmwsbmx1QXkaRGC5ubl1liuNOu1L%2BbiRDE2yMkqK3x1/YS8EftOa1dWvx/8Ai3418UeC7mS4kX4ZXkmmw6LFJNYzWTNvt7KO%2BkAjuJmCS3ToHfdt%2BRAvT/s%2BfszaR8A7zXvEV38UPFnjjxH4kNnHq3irxrcWb30ttaRGK1tR9jtreFYog8rDEe9nnld2dnJoA9KooooAK%2BI/2p/2yv2s/g38avEHwo8HeG/DnjXU7DRbjXfDAT4H%2BII5NFA1HTLVDC325x4mkFjqlx539l%2BU8LQlZRGJhHX25Xh%2BvfsW6n4l8en4na1%2B1z8UZtb0%2BC8i8G3hTQAPCq3U0Mk/2SMaTsnZo4Ft916t0yxM4Uq7s5AOq/ZY%2BLD/ABk%2BEcHiy9%2BJmjeKr%2BHUbqy1S%2B0bwZfeHRbXEUrK1rNpuoXE91ZzxjCvHM4fPzbVDAV6NXDfAP4C%2BHvgB4Z1PRtK8U634g1HX9euNb8SeJPEc0DXuq38wRGnlFvFDAmI4oYlSGKONUiQBRgk9zQAUUUUAFFFFABRRRQAUUUUAUfFHiGw8JeGtR8V6qHNrpljNd3IiXLeXGhdsDucKa%2Bc/wBib9pP41%2BP/FOj%2BDPjZ4e8GWY8dfC2y%2BI3hmHwZpVxaDTI7y4Ju9PuzNcSi7mje5tn%2B2IIBO0sxMEe0F/pa7tLW/tZbG9t0mhmjaOaKVQyupGCpB4II4xXkP7M37FfgL9mDVX1fQPiD4t8Sy23hix8M%2BHR4svbWYaBoVm8j2%2Bm2pt7eEtGpk%2BaWczXEgji8yZ/LXAB7FRRRQAVwv7UHjz4i/Cz9mj4ifE74P8AhRde8W%2BHPAur6p4W0NrGa6Go6jb2csttbGGBllmEkqInlxsHbdhSCQa7qs7xbol/4l8Mah4f0vxXqOhXN7aSQ2%2BtaQsDXVi7KQJohcRSxF1PIEkbpkfMrDIIB5d%2BxT8Wp/ih8M76y1b4heH9Z1Pw7qq6deaZonww1Pwc%2BhoLaCSKzuNK1S5nuYXCOJFdvLR4pYtiYG9/Yq88%2BA/7O2k/A688S%2BI7n4ieJPGPiTxfqMN54i8U%2BK3sxd3Rht0t4IhHY21tbRRRxoAqxwpks7MWZmY%2Bh0AFFFFAHy5%2B1R%2B1j8UP2cPi944sviVo3hLxF8L7D9nfxf49ttCt9EuE1V20QaWs9tcXMly9vNFOt9OAgtkKhEy75YV2/wCzP8X/AI%2Bap8XPGX7Ov7Sz%2BErzxR4Y8MeHvEseq%2BCtJubGykstWfUrdbYw3NzcuZYbjSLsGUSBZEeJvLjO5ag%2BMf7Cvh346fHVvjL48%2BO3jmXTZvBWp%2BEb74ewwaL/AGJd6NqS232%2B0kL6a16RO1pA7OLoOpQhGRGZD0n7O/7Luh/s%2B32teI5/ih4t8b%2BIdftbCyv/ABP42ubSS9NhYpItnZj7JbW8flRGe4cEoZHe5ld3dmzQB6fRRRQAV8ifGv8AaX/a28Ga7%2B0B4Et/CvgzxZe%2BAvD/AIU8SfDax0n4f6nfzrHqOq6lCEvLWK8eXUZ4F02OdTbC3JckKvyq1fXdeFy/sUeIYvjp42%2BP%2BhftofFbStW8b6RY6Zc2NlZ%2BGGtNNtrK4uZ7NLYS6K8n7o3l0oMzyl1nIk8wqhUA6v8AZU%2BLc3xl%2BFI8Taj8TtG8U6ja6rc2OrXWj%2BCL/wANmzuIm%2Ba1n0zUbie6tJ0UruSZgxDK21VYV6TXCfAP4B6B8AdC1mx0/wAW654j1XxN4gl1zxP4m8SS27Xuq38kMMHmyC2hhgjCwW9vCqRRRoqQoAuck93QAUUUUAfG37S37Xf7S37PHxmg%2BG2sp8M/Gt9rcEE3hGHTvC17aS%2BC7zUvEOmeHtIm1OV76YXUU7avOC0S2cjixuljDL5hi9x/ZV%2BL/wASPiMPH/w%2B%2BMR0SfxV8NPHjeGtZ1Xw1p01nYan5ml6dq1vcQ28088lvm11S3R42mlxJHJhiCMcLbf8E1fCTXXxDfxD%2B0v8TtZt/iTrx1zWLfUjoXmWepRXEM%2Bn3NtdRaWl0psHt7cWkbzSRRLCgZH5z6x8A/gLofwD8Patptl4v1zxJq3iLXpta8T%2BKPEr2xv9XvpI4ofOmFrBBAuyCC3gRIoo0WOCNQvBJAO6ooooAZc/afs0n2PZ52w%2BV5udu7HGcc4zXxB8Vv2uf20/hp8RNc%2BG1vbeA/GeveGL3w1b6t468EfBXX9Wj8OW%2BrNePe2EulWepT3dzNHDZWN0TFOn7u6haWBAYmk%2B3ruGS4tZbeG6kgeSNlWeIKXjJGAy7gVyOoyCPUGvnv4MfsBeIPgJ8Nrj4afDv9ur4xRR3WrPqc2s3ll4Tn1CW7leWS5nmmfQj9pkneXdJJOJHzGmwoBggHrPwE%2BIdl8Vvg74f%2BIVh8QNG8VJqeniR9f8P6TNYWl3ICVkKWs800tsVdWRoZJHeNlZWO5SB19cl8C/gv4S/Z9%2BF%2BnfCnwVc39xZWEt1cTX2q3Imur67urmW6urqZwqhpZrieaV9qqu6Q7VVcKOtoAKo%2BJ4fElz4b1C38G6nY2WryWUq6XeanYPdW0FwUIjklhjliaaNWwWRZIywBAdSdwvVm%2BMdBv/ABR4Wv8Aw7pfi3UtBuby1eKDWtHEBurFyOJohcRSxF1PIEkbocfMrDIoA%2BHvhv8At2fta/GD4p638EvhZpvw%2BTxnptrrt9J4z8V/C7WtDXVNM0i10WVLGXRLy%2BTUNPle78Q7EmnmePyoZLhIXWdAfsb4BfFrTfj58CfBXx10bTZbOz8a%2BEtN160s5n3PBFeWsdwsbEAZKiQAn1FeLav/AMEyPA%2Bta5ffEW7/AGlPimnxA1ZLy11r4k217pEOrX%2BmXVta202mFE00WcNsUsrRh5FtFKskCyrKHLMfoPwX4P8ADXw88HaT4A8GaTFp%2Bj6HpkGn6TYQ52W1tDGscUa55wqKqj6UAadFFFAHL/GnUfHGjfC3Wtb%2BHPiGx0vVrCzN1Dfah4PvfECJHGQ8oGnWM8FzeSNErqkUMgcuy4Vz8jfFvwl/4KI/H7xJ400PU/G9x4R8CeDNSnnXxB44vPgZ4imttYv4dfutIRLmVb6NPDM8lraWv7jVGklgeVY3zsCV9t/EzwZrvj3wlN4c8N/FLX/Bt5JLG8Wv%2BGYrF7uDawJVVv7a5gYMAVIeJuCcYOCPFbr/AIJzeFNQ8H3Hw21b9pD4m3fhjXNQmv8Ax5oE1xo4i8YXc9411cTX0q6aLiLzSywtHZy2sQhiSNUUbtwB9E0UUUAFFFFABRRRQAUUUUAFFFFABRRRQAUUUUAFFFFABRRRQAUUUUAFFFFABRRRQAUUUUAFFFFABRRRQAUUUUAFFFFABRRRQAUUUUAFFFFABRRRQAUUUUAFFFFABRRRQAUUUUAFFFFABRRRQAUUUUAFFFFABRRRQAUUUUAFFFFABRRRQAUUUUAFFFFABRRRQAUUUUAFFFFABRRRQAUUUUAFFFFABRRRQAUUUUAFFFFABRRRQAUUUUAFFFFABRRRQAUUUUAFFFFABRRRQAUUUUAFFFFABRRRQAUUUUAFFFFABRRRQAUUUUAFFFFABRRRQAUUUUAf/9k%3D\">"
      ]
     },
     "metadata": {},
     "output_type": "display_data"
    }
   ],
   "source": [
    "s.run(tf.global_variables_initializer())\n",
    "\n",
    "BATCH_SIZE = 512\n",
    "EPOCHS = 40\n",
    "\n",
    "# for logging the progress right here in Jupyter (for those who don't have TensorBoard)\n",
    "simpleTrainingCurves = matplotlib_utils.SimpleTrainingCurves(\"cross-entropy\", \"accuracy\")\n",
    "\n",
    "for epoch in range(EPOCHS):  # we finish an epoch when we've looked at all training samples\n",
    "    \n",
    "    batch_losses = []\n",
    "    for batch_start in range(0, X_train_flat.shape[0], BATCH_SIZE):  # data is already shuffled\n",
    "        _, batch_loss = s.run([step, loss], {input_X: X_train_flat[batch_start:batch_start+BATCH_SIZE], \n",
    "                                             input_y: y_train_oh[batch_start:batch_start+BATCH_SIZE]})\n",
    "        # collect batch losses, this is almost free as we need a forward pass for backprop anyway\n",
    "        batch_losses.append(batch_loss)\n",
    "\n",
    "    train_loss = np.mean(batch_losses)\n",
    "    val_loss = s.run(loss, {input_X: X_val_flat, input_y: y_val_oh})  # this part is usually small\n",
    "    train_accuracy = accuracy_score(y_train, s.run(classes, {input_X: X_train_flat}))  # this is slow and usually skipped\n",
    "    valid_accuracy = accuracy_score(y_val, s.run(classes, {input_X: X_val_flat}))  \n",
    "    simpleTrainingCurves.add(train_loss, val_loss, train_accuracy, valid_accuracy)"
   ]
  },
  {
   "cell_type": "markdown",
   "metadata": {},
   "source": [
    "# Submit a linear model"
   ]
  },
  {
   "cell_type": "code",
   "execution_count": 16,
   "metadata": {
    "collapsed": true
   },
   "outputs": [],
   "source": [
    "## GRADED PART, DO NOT CHANGE!\n",
    "# Testing shapes \n",
    "grader.set_answer(\"9XaAS\", grading_utils.get_tensors_shapes_string([W, b, input_X, input_y, logits, probas, classes]))\n",
    "# Validation loss\n",
    "grader.set_answer(\"vmogZ\", s.run(loss, {input_X: X_val_flat, input_y: y_val_oh}))\n",
    "# Validation accuracy\n",
    "grader.set_answer(\"RMv95\", accuracy_score(y_val, s.run(classes, {input_X: X_val_flat})))"
   ]
  },
  {
   "cell_type": "code",
   "execution_count": 17,
   "metadata": {},
   "outputs": [
    {
     "name": "stdout",
     "output_type": "stream",
     "text": [
      "Submitted to Coursera platform. See results on assignment page!\n"
     ]
    }
   ],
   "source": [
    "# you can make submission with answers so far to check yourself at this stage\n",
    "grader.submit(COURSERA_EMAIL, COURSERA_TOKEN)"
   ]
  },
  {
   "cell_type": "markdown",
   "metadata": {},
   "source": [
    "# MLP with hidden layers"
   ]
  },
  {
   "cell_type": "markdown",
   "metadata": {},
   "source": [
    "Previously we've coded a dense layer with matrix multiplication by hand. \n",
    "But this is not convenient, you have to create a lot of variables and your code becomes a mess. \n",
    "In TensorFlow there's an easier way to make a dense layer:\n",
    "```python\n",
    "hidden1 = tf.layers.dense(inputs, 256, activation=tf.nn.sigmoid)\n",
    "```\n",
    "\n",
    "That will create all the necessary variables automatically.\n",
    "Here you can also choose an activation function (remember that we need it for a hidden layer!).\n",
    "\n",
    "Now define the MLP with 2 hidden layers and restart training with the cell above.\n",
    "\n",
    "You're aiming for ~0.97 validation accuracy here."
   ]
  },
  {
   "cell_type": "code",
   "execution_count": 28,
   "metadata": {
    "collapsed": true
   },
   "outputs": [],
   "source": [
    "# write the code here to get a new `step` operation and then run the cell with training loop above.\n",
    "# name your variables in the same way (e.g. logits, probas, classes, etc) for safety.\n",
    "### YOUR CODE HERE ###\n",
    "\n",
    "hidden1 = tf.layers.dense(input_X,256,activation=tf.nn.sigmoid)\n",
    "\n",
    "# logits for input_X, resulting shape should be [input_X.shape[0], 10]\n",
    "logits = hidden1 @ W + b\n",
    "\n",
    "# apply tf.nn.softmax to logits\n",
    "probas = tf.nn.softmax(logits)\n",
    "\n",
    "# apply tf.argmax to find a class index with highest probability\n",
    "classes = tf.argmax(probas, axis=1)\n",
    "\n",
    "\n",
    "# Loss should be a scalar number: average loss over all the objects with tf.reduce_mean().\n",
    "# Use tf.nn.softmax_cross_entropy_with_logits on top of one-hot encoded input_y and logits.\n",
    "# It is identical to calculating cross-entropy on top of probas, but is more numerically friendly (read the docs).\n",
    "# cross-entropy loss\n",
    "loss = tf.reduce_mean(tf.nn.softmax_cross_entropy_with_logits(labels=input_y, logits=logits))\n",
    "\n",
    "# Use a default tf.train.AdamOptimizer to get an SGD step\n",
    "optimizer = tf.train.AdamOptimizer(0.001)\n",
    "### YOUR CODE HERE ### optimizer step that minimizes the loss\n",
    "step = optimizer.minimize(loss)"
   ]
  },
  {
   "cell_type": "markdown",
   "metadata": {},
   "source": [
    "# Submit the MLP with 2 hidden layers\n",
    "Run these cells after training the MLP with 2 hidden layers"
   ]
  },
  {
   "cell_type": "code",
   "execution_count": 30,
   "metadata": {
    "collapsed": true
   },
   "outputs": [],
   "source": [
    "## GRADED PART, DO NOT CHANGE!\n",
    "# Validation loss for MLP\n",
    "grader.set_answer(\"i8bgs\", s.run(loss, {input_X: X_val_flat, input_y: y_val_oh}))\n",
    "# Validation accuracy for MLP\n",
    "grader.set_answer(\"rE763\", accuracy_score(y_val, s.run(classes, {input_X: X_val_flat})))"
   ]
  },
  {
   "cell_type": "code",
   "execution_count": 31,
   "metadata": {},
   "outputs": [
    {
     "name": "stdout",
     "output_type": "stream",
     "text": [
      "Submitted to Coursera platform. See results on assignment page!\n"
     ]
    }
   ],
   "source": [
    "# you can make submission with answers so far to check yourself at this stage\n",
    "grader.submit(COURSERA_EMAIL, COURSERA_TOKEN)"
   ]
  },
  {
   "cell_type": "code",
   "execution_count": null,
   "metadata": {
    "collapsed": true
   },
   "outputs": [],
   "source": []
  }
 ],
 "metadata": {
  "kernelspec": {
   "display_name": "Python 3",
   "language": "python",
   "name": "python3"
  },
  "language_info": {
   "codemirror_mode": {
    "name": "ipython",
    "version": 3
   },
   "file_extension": ".py",
   "mimetype": "text/x-python",
   "name": "python",
   "nbconvert_exporter": "python",
   "pygments_lexer": "ipython3",
   "version": "3.6.2"
  }
 },
 "nbformat": 4,
 "nbformat_minor": 1
}
